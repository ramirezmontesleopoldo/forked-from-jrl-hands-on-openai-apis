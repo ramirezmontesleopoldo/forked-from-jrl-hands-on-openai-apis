{
 "cells": [
  {
   "cell_type": "code",
   "execution_count": 1,
   "id": "b38b03a2",
   "metadata": {
    "id": "b38b03a2"
   },
   "outputs": [],
   "source": [
    "import os\n",
    "from pprint import pprint\n",
    "\n",
    "import pandas as pd\n",
    "from openai import OpenAI"
   ]
  },
  {
   "cell_type": "code",
   "execution_count": 2,
   "id": "773b99c5",
   "metadata": {
    "id": "773b99c5"
   },
   "outputs": [],
   "source": [
    "#os.environ[\"OPENAI_API_KEY\"] = ''\n",
    "\n",
    "client = OpenAI()"
   ]
  },
  {
   "cell_type": "markdown",
   "id": "dd00cfb0",
   "metadata": {},
   "source": [
    "API reference\n",
    "\n",
    "https://platform.openai.com/docs/guides/speech-to-text\n",
    "\n",
    "The Audio API provides two speech to text endpoints, transcriptions and translations. They can be used to:\n",
    "\n",
    "- Transcribe audio into whatever language the audio is in.\n",
    "- Translate and transcribe the audio into english."
   ]
  },
  {
   "cell_type": "code",
   "execution_count": 3,
   "id": "09fbae7d",
   "metadata": {
    "id": "09fbae7d"
   },
   "outputs": [],
   "source": [
    "WHISPER_MODEL = \"whisper-1\""
   ]
  },
  {
   "cell_type": "markdown",
   "id": "9c1f3dee",
   "metadata": {
    "id": "9c1f3dee"
   },
   "source": [
    "## Transcription"
   ]
  },
  {
   "cell_type": "markdown",
   "id": "fa5a1b3d",
   "metadata": {
    "id": "fa5a1b3d"
   },
   "source": [
    "Speech generated using: https://elevenlabs.io/text-to-speech"
   ]
  },
  {
   "cell_type": "code",
   "execution_count": 4,
   "id": "2fed26a2",
   "metadata": {
    "id": "2fed26a2",
    "outputId": "867407ec-93d5-4025-ecb0-f9080d663a19"
   },
   "outputs": [
    {
     "data": {
      "text/plain": [
       "Transcription(text=\"The ancient forest breathes with primordial life, its canopy a cathedral of emerald and jade. Sunlight filters through the leaves, dappling the forest floor with liquid gold. Moss-covered logs, soft as velvet, crumble beneath cautious steps, releasing the earthy scent of decay and renewal. A creek babbles nearby, its crystal waters tumbling over smooth stones, creating a soothing melody that underlies the forest's symphony.\")"
      ]
     },
     "execution_count": 4,
     "metadata": {},
     "output_type": "execute_result"
    }
   ],
   "source": [
    "audio_file = open(\"audio/nature_female.mp3\", \"rb\")\n",
    "\n",
    "transcript = client.audio.transcriptions.create(\n",
    "    model = WHISPER_MODEL, file = audio_file\n",
    ")\n",
    "\n",
    "transcript"
   ]
  },
  {
   "cell_type": "code",
   "execution_count": 5,
   "id": "7fd856fe",
   "metadata": {
    "id": "7fd856fe",
    "outputId": "3309e4e5-82a3-4310-8377-95b4d26ddc02"
   },
   "outputs": [
    {
     "name": "stdout",
     "output_type": "stream",
     "text": [
      "The ancient forest breathes with primordial life, its canopy a cathedral of emerald and jade. Sunlight filters through the leaves, dappling the forest floor with liquid gold. Moss-covered logs, soft as velvet, crumble beneath cautious steps, releasing the earthy scent of decay and renewal. A creek babbles nearby, its crystal waters tumbling over smooth stones, creating a soothing melody that underlies the forest's symphony.\n"
     ]
    }
   ],
   "source": [
    "print(transcript.text)"
   ]
  },
  {
   "cell_type": "markdown",
   "id": "6b58ed43",
   "metadata": {
    "id": "6b58ed43"
   },
   "source": [
    "https://platform.openai.com/docs/api-reference/audio/createTranscription"
   ]
  },
  {
   "cell_type": "code",
   "execution_count": 28,
   "id": "e00ffb88",
   "metadata": {
    "id": "e00ffb88"
   },
   "outputs": [],
   "source": [
    "def transcribe(audio_file, response_format=\"text\", language=None):\n",
    "    try:\n",
    "        with open(audio_file, \"rb\") as audio_file:\n",
    "            response = client.audio.transcriptions.create(\n",
    "                file = audio_file,\n",
    "                model = WHISPER_MODEL,\n",
    "                response_format = response_format,\n",
    "                language = language\n",
    "            )\n",
    "\n",
    "            return response\n",
    "    except Exception as e:\n",
    "        return str(e)"
   ]
  },
  {
   "cell_type": "markdown",
   "id": "95fe2070",
   "metadata": {
    "id": "95fe2070"
   },
   "source": [
    "### TODO Recording:\n",
    "\n",
    "- Play the clip - can play only the first 15 seconds\n",
    "- In screenflow will need to change the recording settings to pick up sound from computer"
   ]
  },
  {
   "cell_type": "code",
   "execution_count": 9,
   "id": "3bb87373",
   "metadata": {
    "id": "3bb87373",
    "outputId": "b5ec40a5-92d4-4c1a-a669-3d3ebc5dcca2"
   },
   "outputs": [
    {
     "name": "stdout",
     "output_type": "stream",
     "text": [
      "Large language models, LLMs, have revolutionized the field of artificial intelligence, captivating both tech enthusiasts and the general public. These sophisticated AI systems, trained on vast amounts of text data, can generate human-like text, answer questions, and perform a wide range of language-related tasks with remarkable proficiency.\n",
      "\n"
     ]
    }
   ],
   "source": [
    "audio_file = 'audio/llms_uk_female.mp3'\n",
    "\n",
    "transcription = transcribe(audio_file)\n",
    "\n",
    "print(transcription)"
   ]
  },
  {
   "cell_type": "markdown",
   "id": "8f4b67ac",
   "metadata": {
    "id": "8f4b67ac"
   },
   "source": [
    "An SRT file (otherwise known as a SubRip Subtitle file) is a plain-text file that contains critical information regarding subtitles, including the start and end timecodes of your text to ensure your subtitles match your audio, and the sequential number of subtitles.\n",
    "\n",
    "https://blog.hubspot.com/marketing/srt-file"
   ]
  },
  {
   "cell_type": "code",
   "execution_count": 12,
   "id": "8abbe804",
   "metadata": {},
   "outputs": [
    {
     "name": "stdout",
     "output_type": "stream",
     "text": [
      "1\n",
      "00:00:00,000 --> 00:00:04,400\n",
      "omena, mengi la Harry kutoka uliya tukarila,\n",
      "\n",
      "2\n",
      "00:00:04,400 --> 00:00:08,820\n",
      "hakupo ambayo kwakuwele na mihe Halloween ni nauweze na haitabo\n",
      "\n",
      "3\n",
      "00:00:08,860 --> 00:00:10,520\n",
      "akuo Bajiga Army a Why the Witchcraft Naungu Uchoo.\n",
      "\n",
      "4\n",
      "00:00:11,500 --> 00:00:11,800\n",
      "hakuwana,\n",
      "\n",
      "5\n",
      "00:00:11,800 --> 00:00:14,720\n",
      "Fengla nashidi ya Ronaldo Wesley na Hermione\n",
      "\n",
      "6\n",
      "00:00:14,720 --> 00:00:15,740\n",
      "Raja Recommenda,\n",
      "\n",
      "7\n",
      "00:00:15,740 --> 00:00:19,280\n",
      "hashaweza烹‎ashunuziranga la mili weweoe.\n",
      "\n",
      "8\n",
      "00:00:19,320 --> 00:00:20,500\n",
      "Ramamesa hafulo—\n",
      "\n",
      "9\n",
      "00:00:20,500 --> 00:00:26,160\n",
      "waopote\n",
      "\n",
      "10\n",
      "00:00:26,240 --> 00:00:27,200\n",
      "gunua\n",
      "\n",
      "11\n",
      "00:00:27,200 --> 00:00:27,860\n",
      "mbio\n",
      "\n",
      "12\n",
      "00:00:27,860 --> 00:00:28,320\n",
      "mpiso\n",
      "\n",
      "13\n",
      "00:00:29,180 --> 00:00:30,900\n",
      "ba jambala 45 vya wakati na Hoogwarts\n",
      "\n",
      "14\n",
      "00:00:30,900 --> 00:00:32,680\n",
      "wali mula auwieje,\n",
      "\n",
      "15\n",
      "00:00:32,680 --> 00:00:34,639\n",
      "latiya Dawane\n",
      "\n",
      "16\n",
      "00:00:34,639 --> 00:00:37,000\n",
      "miwe duo\n",
      "\n",
      "17\n",
      "00:00:37,000 --> 00:00:38,340\n",
      "wanata\n",
      "\n",
      "18\n",
      "00:00:38,340 --> 00:00:39,320\n",
      "kila\n",
      "\n",
      "19\n",
      "00:00:40,299 --> 00:00:41,840\n",
      "wa kutoka\n",
      "\n",
      "20\n",
      "00:00:41,840 --> 00:00:43,360\n",
      "wa kwoto\n",
      "\n",
      "21\n",
      "00:00:43,360 --> 00:00:44,919\n",
      "isa\n",
      "\n",
      "22\n",
      "00:00:44,919 --> 00:00:46,360\n",
      "chuko\n",
      "\n",
      "23\n",
      "00:00:47,200 --> 00:00:48,139\n",
      "babaji\n",
      "\n",
      "24\n",
      "00:00:48,139 --> 00:00:49,480\n",
      "wa poni\n",
      "\n",
      "25\n",
      "00:00:49,480 --> 00:00:50,720\n",
      "zile\n",
      "\n",
      "26\n",
      "00:00:50,720 --> 00:00:51,560\n",
      "chuko\n",
      "\n",
      "27\n",
      "00:00:51,560 --> 00:00:53,200\n",
      "vinyasa\n",
      "\n",
      "28\n",
      "00:00:54,060 --> 00:00:54,759\n",
      "Squeak\n",
      "\n",
      "29\n",
      "00:00:54,759 --> 00:00:56,820\n",
      "tizo\n",
      "\n",
      "30\n",
      "00:00:56,820 --> 00:00:57,779\n",
      "l Critique\n",
      "\n",
      "31\n",
      "00:00:57,779 --> 00:00:59,500\n",
      "Ita followers\n",
      "\n",
      "32\n",
      "00:00:59,500 --> 00:01:03,139\n",
      "Harry receives guidance from Hogwarts Headmaster Albus Dumbledore\n",
      "\n",
      "33\n",
      "00:01:03,139 --> 00:01:07,559\n",
      "who helps him understand the power of Love and Sacrifice in magic.\n",
      "\n",
      "34\n",
      "00:01:07,559 --> 00:01:10,400\n",
      "In the later books, Harry learns about Horcruxes\n",
      "\n",
      "35\n",
      "00:01:10,400 --> 00:01:12,800\n",
      "objects containing pieces of Voldemort's soul\n",
      "\n",
      "36\n",
      "00:01:12,800 --> 00:01:16,099\n",
      "and embarks on a perilous quest to destroy them.\n",
      "\n",
      "37\n",
      "00:01:16,099 --> 00:01:19,300\n",
      "The series culminates in a EPIC Battle at Hogwarts\n",
      "\n",
      "38\n",
      "00:01:19,300 --> 00:01:21,660\n",
      "where Harry must confront his own mortality\n",
      "\n",
      "39\n",
      "00:01:21,660 --> 00:01:26,099\n",
      "and make difficult choices to defeat Voldemort once and for all.\n",
      "\n",
      "40\n",
      "00:01:26,099 --> 00:01:31,059\n",
      "Throughout the series, themes of friendship, bravery, and the power of choice are explored\n",
      "\n",
      "41\n",
      "00:01:31,059 --> 00:01:34,620\n",
      "as Harry and his friends navigate the complexities of growing up\n",
      "\n",
      "42\n",
      "00:01:34,620 --> 00:01:36,860\n",
      "while facing extraordinary circumstances.\n",
      "\n",
      "\n",
      "\n"
     ]
    }
   ],
   "source": [
    "audio_file = 'audio/harrypotter_tanzania_male.mp3'\n",
    "response_format='srt'\n",
    "\n",
    "transcription = transcribe(audio_file, response_format)\n",
    "\n",
    "print(transcription)"
   ]
  },
  {
   "cell_type": "code",
   "execution_count": 11,
   "id": "72c37f45",
   "metadata": {
    "id": "72c37f45",
    "outputId": "51e3f6f0-39ea-4b8d-834e-09a74beec55f"
   },
   "outputs": [
    {
     "name": "stdout",
     "output_type": "stream",
     "text": [
      "1\n",
      "00:00:00,000 --> 00:00:05,200\n",
      "Harry Potter, an orphan boy living with his neglectful aunt and uncle, discovers on his\n",
      "\n",
      "2\n",
      "00:00:05,200 --> 00:00:10,000\n",
      "eleventh birthday that he's a wizard and has been accepted to Hogwarts School of Witchcraft and\n",
      "\n",
      "3\n",
      "00:00:10,000 --> 00:00:16,080\n",
      "Wizardry. At Hogwarts, Harry makes friends with Ron Weasley and Hermione Granger and learns about\n",
      "\n",
      "4\n",
      "00:00:16,080 --> 00:00:21,840\n",
      "the magical world he never knew existed. He also discovers that his parents were murdered by the\n",
      "\n",
      "5\n",
      "00:00:21,840 --> 00:00:27,120\n",
      "dark wizard Voldemort, who tried to kill Harry as a baby but mysteriously failed, leaving Harry with\n",
      "\n",
      "6\n",
      "00:00:27,120 --> 00:00:32,880\n",
      "a lightning-bolt scar. Over seven years at Hogwarts, Harry faces numerous challenges and\n",
      "\n",
      "7\n",
      "00:00:32,880 --> 00:00:38,000\n",
      "adventures, from confronting a troll in his first year to competing in the dangerous triwizard\n",
      "\n",
      "8\n",
      "00:00:38,000 --> 00:00:43,439\n",
      "tournament in his fourth. Each year brings new defense against the dark arts teachers,\n",
      "\n",
      "9\n",
      "00:00:43,439 --> 00:00:49,360\n",
      "some helpful and others harboring dark secrets. As Harry grows, he learns more about his\n",
      "\n",
      "10\n",
      "00:00:49,360 --> 00:00:55,360\n",
      "connection to Voldemort, including a prophecy that links their fates. Voldemort, meanwhile,\n",
      "\n",
      "11\n",
      "00:00:55,360 --> 00:01:01,279\n",
      "slowly regains power and gathers his Death Eater followers. Harry receives guidance from Hogwarts\n",
      "\n",
      "12\n",
      "00:01:01,279 --> 00:01:06,160\n",
      "headmaster Albus Dumbledore, who helps him understand the power of love and sacrifice in\n",
      "\n",
      "13\n",
      "00:01:06,160 --> 00:01:12,320\n",
      "magic. In the later books, Harry learns about Horcruxes, objects containing pieces of Voldemort's\n",
      "\n",
      "14\n",
      "00:01:12,320 --> 00:01:18,480\n",
      "soul, and embarks on a perilous quest to destroy them. The series culminates in an epic battle at\n",
      "\n",
      "15\n",
      "00:01:18,480 --> 00:01:23,440\n",
      "Hogwarts, where Harry must confront his own mortality and make difficult choices to defeat\n",
      "\n",
      "16\n",
      "00:01:23,440 --> 00:01:29,760\n",
      "Voldemort once and for all. Throughout the series, themes of friendship, bravery, and the power of\n",
      "\n",
      "17\n",
      "00:01:29,760 --> 00:01:34,800\n",
      "choice are explored as Harry and his friends navigate the complexities of growing up while\n",
      "\n",
      "18\n",
      "00:01:34,800 --> 00:01:37,040\n",
      "facing extraordinary circumstances.\n",
      "\n",
      "\n",
      "\n"
     ]
    }
   ],
   "source": [
    "audio_file = 'audio/harrypotter_tanzania_male.mp3'\n",
    "response_format='srt'\n",
    "\n",
    "transcription = transcribe(audio_file, response_format, language=\"en\")\n",
    "\n",
    "print(transcription)"
   ]
  },
  {
   "cell_type": "code",
   "execution_count": 14,
   "id": "417b59ca",
   "metadata": {
    "id": "417b59ca",
    "outputId": "93e1c0ae-bbb7-46eb-8c47-675cb08951cf"
   },
   "outputs": [
    {
     "name": "stdout",
     "output_type": "stream",
     "text": [
      "Transcription(text=\"Harry Potter, an orphan boy living with his neglectful aunt and uncle, discovers on his eleventh birthday that he's a wizard and has been accepted to Hogwarts School of Witchcraft and Wizardry. At Hogwarts, Harry makes friends with Ron Weasley and Hermione Granger and learns about the magical world he never knew existed. He also discovers that his parents were murdered by the dark wizard Voldemort, who tried to kill Harry as a baby but mysteriously failed, leaving Harry with a lightning-bolt scar. Over seven years at Hogwarts, Harry faces numerous challenges and adventures, from confronting a troll in his first year to competing in the dangerous triwizard tournament in his fourth. Each year brings new defense against the dark arts teachers, some helpful and others harboring dark secrets. As Harry grows, he learns more about his connection to Voldemort, including a prophecy that links their fates. Voldemort, meanwhile, slowly regains power and gathers his Death Eater followers. Harry receives guidance from Hogwarts headmaster Albus Dumbledore, who helps him understand the power of love and sacrifice in magic. In the later books, Harry learns about Horcruxes, objects containing pieces of Voldemort's soul, and embarks on a perilous quest to destroy them. The series culminates in an epic battle at Hogwarts, where Harry must confront his own mortality and make difficult choices to defeat Voldemort once and for all. Throughout the series, themes of friendship, bravery, and the power of choice are explored as Harry and his friends navigate the complexities of growing up while facing extraordinary circumstances.\")\n"
     ]
    }
   ],
   "source": [
    "audio_file = 'audio/harrypotter_tanzania_male.mp3'\n",
    "response_format='json'\n",
    "\n",
    "transcription = transcribe(audio_file, response_format, language=\"en\")\n",
    "\n",
    "print(transcription)"
   ]
  },
  {
   "cell_type": "code",
   "execution_count": 15,
   "id": "0d01fd18",
   "metadata": {
    "id": "0d01fd18",
    "outputId": "f007d997-4654-41d8-89a7-67c69abc5078",
    "scrolled": true
   },
   "outputs": [
    {
     "name": "stdout",
     "output_type": "stream",
     "text": [
      "Harry Potter, an orphan boy living with his neglectful aunt and uncle, discovers on his eleventh birthday that he's a wizard and has been accepted to Hogwarts School of Witchcraft and Wizardry. At Hogwarts, Harry makes friends with Ron Weasley and Hermione Granger and learns about the magical world he never knew existed. He also discovers that his parents were murdered by the dark wizard Voldemort, who tried to kill Harry as a baby but mysteriously failed, leaving Harry with a lightning-bolt scar. Over seven years at Hogwarts, Harry faces numerous challenges and adventures, from confronting a troll in his first year to competing in the dangerous triwizard tournament in his fourth. Each year brings new defense against the dark arts teachers, some helpful and others harboring dark secrets. As Harry grows, he learns more about his connection to Voldemort, including a prophecy that links their fates. Voldemort, meanwhile, slowly regains power and gathers his Death Eater followers. Harry receives guidance from Hogwarts headmaster Albus Dumbledore, who helps him understand the power of love and sacrifice in magic. In the later books, Harry learns about Horcruxes, objects containing pieces of Voldemort's soul, and embarks on a perilous quest to destroy them. The series culminates in an epic battle at Hogwarts, where Harry must confront his own mortality and make difficult choices to defeat Voldemort once and for all. Throughout the series, themes of friendship, bravery, and the power of choice are explored as Harry and his friends navigate the complexities of growing up while facing extraordinary circumstances.\n"
     ]
    }
   ],
   "source": [
    "audio_file = 'audio/harrypotter_tanzania_male.mp3'\n",
    "response_format='verbose_json'\n",
    "\n",
    "transcription = transcribe(audio_file, response_format, language=\"en\")\n",
    "\n",
    "print(transcription.text)"
   ]
  },
  {
   "cell_type": "code",
   "execution_count": 16,
   "id": "7135fcc2",
   "metadata": {},
   "outputs": [
    {
     "name": "stdout",
     "output_type": "stream",
     "text": [
      "[{'avg_logprob': -0.18206751346588135,\n",
      "  'compression_ratio': 1.6073825359344482,\n",
      "  'end': 5.199999809265137,\n",
      "  'id': 0,\n",
      "  'no_speech_prob': 0.00882041733711958,\n",
      "  'seek': 0,\n",
      "  'start': 0.0,\n",
      "  'temperature': 0.0,\n",
      "  'text': ' Harry Potter, an orphan boy living with his neglectful aunt and '\n",
      "          'uncle, discovers on his',\n",
      "  'tokens': [50364,\n",
      "             9378,\n",
      "             18115,\n",
      "             11,\n",
      "             364,\n",
      "             28711,\n",
      "             3237,\n",
      "             2647,\n",
      "             365,\n",
      "             702,\n",
      "             17745,\n",
      "             906,\n",
      "             15654,\n",
      "             293,\n",
      "             9153,\n",
      "             11,\n",
      "             44522,\n",
      "             322,\n",
      "             702,\n",
      "             50624]},\n",
      " {'avg_logprob': -0.18206751346588135,\n",
      "  'compression_ratio': 1.6073825359344482,\n",
      "  'end': 10.0,\n",
      "  'id': 1,\n",
      "  'no_speech_prob': 0.00882041733711958,\n",
      "  'seek': 0,\n",
      "  'start': 5.199999809265137,\n",
      "  'temperature': 0.0,\n",
      "  'text': \" eleventh birthday that he's a wizard and has been accepted to \"\n",
      "          'Hogwarts School of Witchcraft and',\n",
      "  'tokens': [50624,\n",
      "             1118,\n",
      "             37439,\n",
      "             6154,\n",
      "             300,\n",
      "             415,\n",
      "             311,\n",
      "             257,\n",
      "             25807,\n",
      "             293,\n",
      "             575,\n",
      "             668,\n",
      "             9035,\n",
      "             281,\n",
      "             46539,\n",
      "             5070,\n",
      "             295,\n",
      "             23522,\n",
      "             5611,\n",
      "             293,\n",
      "             50864]},\n",
      " {'avg_logprob': -0.18206751346588135,\n",
      "  'compression_ratio': 1.6073825359344482,\n",
      "  'end': 16.079999923706055,\n",
      "  'id': 2,\n",
      "  'no_speech_prob': 0.00882041733711958,\n",
      "  'seek': 0,\n",
      "  'start': 10.0,\n",
      "  'temperature': 0.0,\n",
      "  'text': ' Wizardry. At Hogwarts, Harry makes friends with Ron Weasley and '\n",
      "          'Hermione Granger and learns about',\n",
      "  'tokens': [50864,\n",
      "             37449,\n",
      "             627,\n",
      "             13,\n",
      "             1711,\n",
      "             46539,\n",
      "             11,\n",
      "             9378,\n",
      "             1669,\n",
      "             1855,\n",
      "             365,\n",
      "             9949,\n",
      "             492,\n",
      "             296,\n",
      "             3420,\n",
      "             293,\n",
      "             21842,\n",
      "             5328,\n",
      "             2606,\n",
      "             3176,\n",
      "             293,\n",
      "             27152,\n",
      "             466,\n",
      "             51168]},\n",
      " {'avg_logprob': -0.18206751346588135,\n",
      "  'compression_ratio': 1.6073825359344482,\n",
      "  'end': 21.84000015258789,\n",
      "  'id': 3,\n",
      "  'no_speech_prob': 0.00882041733711958,\n",
      "  'seek': 0,\n",
      "  'start': 16.079999923706055,\n",
      "  'temperature': 0.0,\n",
      "  'text': ' the magical world he never knew existed. He also discovers that '\n",
      "          'his parents were murdered by the',\n",
      "  'tokens': [51168,\n",
      "             264,\n",
      "             12066,\n",
      "             1002,\n",
      "             415,\n",
      "             1128,\n",
      "             2586,\n",
      "             13135,\n",
      "             13,\n",
      "             634,\n",
      "             611,\n",
      "             44522,\n",
      "             300,\n",
      "             702,\n",
      "             3152,\n",
      "             645,\n",
      "             18486,\n",
      "             538,\n",
      "             264,\n",
      "             51456]},\n",
      " {'avg_logprob': -0.18206751346588135,\n",
      "  'compression_ratio': 1.6073825359344482,\n",
      "  'end': 27.1200008392334,\n",
      "  'id': 4,\n",
      "  'no_speech_prob': 0.00882041733711958,\n",
      "  'seek': 0,\n",
      "  'start': 21.84000015258789,\n",
      "  'temperature': 0.0,\n",
      "  'text': ' dark wizard Voldemort, who tried to kill Harry as a baby but '\n",
      "          'mysteriously failed, leaving Harry with',\n",
      "  'tokens': [51456,\n",
      "             2877,\n",
      "             25807,\n",
      "             48791,\n",
      "             443,\n",
      "             477,\n",
      "             11,\n",
      "             567,\n",
      "             3031,\n",
      "             281,\n",
      "             1961,\n",
      "             9378,\n",
      "             382,\n",
      "             257,\n",
      "             3186,\n",
      "             457,\n",
      "             11010,\n",
      "             8994,\n",
      "             7612,\n",
      "             11,\n",
      "             5012,\n",
      "             9378,\n",
      "             365,\n",
      "             51720]},\n",
      " {'avg_logprob': -0.18310073018074036,\n",
      "  'compression_ratio': 1.6340579986572266,\n",
      "  'end': 32.880001068115234,\n",
      "  'id': 5,\n",
      "  'no_speech_prob': 0.24662873148918152,\n",
      "  'seek': 2712,\n",
      "  'start': 27.1200008392334,\n",
      "  'temperature': 0.0,\n",
      "  'text': ' a lightning-bolt scar. Over seven years at Hogwarts, Harry faces '\n",
      "          'numerous challenges and',\n",
      "  'tokens': [50364,\n",
      "             257,\n",
      "             16589,\n",
      "             12,\n",
      "             39477,\n",
      "             10569,\n",
      "             13,\n",
      "             4886,\n",
      "             3407,\n",
      "             924,\n",
      "             412,\n",
      "             46539,\n",
      "             11,\n",
      "             9378,\n",
      "             8475,\n",
      "             12546,\n",
      "             4759,\n",
      "             293,\n",
      "             50652]},\n",
      " {'avg_logprob': -0.18310073018074036,\n",
      "  'compression_ratio': 1.6340579986572266,\n",
      "  'end': 38.0,\n",
      "  'id': 6,\n",
      "  'no_speech_prob': 0.24662873148918152,\n",
      "  'seek': 2712,\n",
      "  'start': 32.880001068115234,\n",
      "  'temperature': 0.0,\n",
      "  'text': ' adventures, from confronting a troll in his first year to '\n",
      "          'competing in the dangerous triwizard',\n",
      "  'tokens': [50652,\n",
      "             20905,\n",
      "             11,\n",
      "             490,\n",
      "             47449,\n",
      "             257,\n",
      "             20680,\n",
      "             294,\n",
      "             702,\n",
      "             700,\n",
      "             1064,\n",
      "             281,\n",
      "             15439,\n",
      "             294,\n",
      "             264,\n",
      "             5795,\n",
      "             1376,\n",
      "             86,\n",
      "             17523,\n",
      "             50908]},\n",
      " {'avg_logprob': -0.18310073018074036,\n",
      "  'compression_ratio': 1.6340579986572266,\n",
      "  'end': 43.439998626708984,\n",
      "  'id': 7,\n",
      "  'no_speech_prob': 0.24662873148918152,\n",
      "  'seek': 2712,\n",
      "  'start': 38.0,\n",
      "  'temperature': 0.0,\n",
      "  'text': ' tournament in his fourth. Each year brings new defense against the '\n",
      "          'dark arts teachers,',\n",
      "  'tokens': [50908,\n",
      "             13713,\n",
      "             294,\n",
      "             702,\n",
      "             6409,\n",
      "             13,\n",
      "             6947,\n",
      "             1064,\n",
      "             5607,\n",
      "             777,\n",
      "             7654,\n",
      "             1970,\n",
      "             264,\n",
      "             2877,\n",
      "             8609,\n",
      "             6023,\n",
      "             11,\n",
      "             51180]},\n",
      " {'avg_logprob': -0.18310073018074036,\n",
      "  'compression_ratio': 1.6340579986572266,\n",
      "  'end': 49.36000061035156,\n",
      "  'id': 8,\n",
      "  'no_speech_prob': 0.24662873148918152,\n",
      "  'seek': 2712,\n",
      "  'start': 43.439998626708984,\n",
      "  'temperature': 0.0,\n",
      "  'text': ' some helpful and others harboring dark secrets. As Harry grows, he '\n",
      "          'learns more about his',\n",
      "  'tokens': [51180,\n",
      "             512,\n",
      "             4961,\n",
      "             293,\n",
      "             2357,\n",
      "             2233,\n",
      "             65,\n",
      "             3662,\n",
      "             2877,\n",
      "             14093,\n",
      "             13,\n",
      "             1018,\n",
      "             9378,\n",
      "             13156,\n",
      "             11,\n",
      "             415,\n",
      "             27152,\n",
      "             544,\n",
      "             466,\n",
      "             702,\n",
      "             51476]},\n",
      " {'avg_logprob': -0.18310073018074036,\n",
      "  'compression_ratio': 1.6340579986572266,\n",
      "  'end': 55.36000061035156,\n",
      "  'id': 9,\n",
      "  'no_speech_prob': 0.24662873148918152,\n",
      "  'seek': 2712,\n",
      "  'start': 49.36000061035156,\n",
      "  'temperature': 0.0,\n",
      "  'text': ' connection to Voldemort, including a prophecy that links their '\n",
      "          'fates. Voldemort, meanwhile,',\n",
      "  'tokens': [51476,\n",
      "             4984,\n",
      "             281,\n",
      "             48791,\n",
      "             443,\n",
      "             477,\n",
      "             11,\n",
      "             3009,\n",
      "             257,\n",
      "             23945,\n",
      "             300,\n",
      "             6123,\n",
      "             641,\n",
      "             283,\n",
      "             1024,\n",
      "             13,\n",
      "             48791,\n",
      "             443,\n",
      "             477,\n",
      "             11,\n",
      "             29252,\n",
      "             11,\n",
      "             51776]},\n",
      " {'avg_logprob': -0.15984117984771729,\n",
      "  'compression_ratio': 1.5925925970077515,\n",
      "  'end': 61.279998779296875,\n",
      "  'id': 10,\n",
      "  'no_speech_prob': 0.004949147347360849,\n",
      "  'seek': 5536,\n",
      "  'start': 55.36000061035156,\n",
      "  'temperature': 0.0,\n",
      "  'text': ' slowly regains power and gathers his Death Eater followers. Harry '\n",
      "          'receives guidance from Hogwarts',\n",
      "  'tokens': [50364,\n",
      "             5692,\n",
      "             1121,\n",
      "             2315,\n",
      "             1347,\n",
      "             293,\n",
      "             290,\n",
      "             11850,\n",
      "             702,\n",
      "             13703,\n",
      "             462,\n",
      "             771,\n",
      "             13071,\n",
      "             13,\n",
      "             9378,\n",
      "             20717,\n",
      "             10056,\n",
      "             490,\n",
      "             46539,\n",
      "             50660]},\n",
      " {'avg_logprob': -0.15984117984771729,\n",
      "  'compression_ratio': 1.5925925970077515,\n",
      "  'end': 66.16000366210938,\n",
      "  'id': 11,\n",
      "  'no_speech_prob': 0.004949147347360849,\n",
      "  'seek': 5536,\n",
      "  'start': 61.279998779296875,\n",
      "  'temperature': 0.0,\n",
      "  'text': ' headmaster Albus Dumbledore, who helps him understand the power of '\n",
      "          'love and sacrifice in',\n",
      "  'tokens': [50660,\n",
      "             1378,\n",
      "             21640,\n",
      "             967,\n",
      "             21441,\n",
      "             413,\n",
      "             19928,\n",
      "             418,\n",
      "             11,\n",
      "             567,\n",
      "             3665,\n",
      "             796,\n",
      "             1223,\n",
      "             264,\n",
      "             1347,\n",
      "             295,\n",
      "             959,\n",
      "             293,\n",
      "             11521,\n",
      "             294,\n",
      "             50904]},\n",
      " {'avg_logprob': -0.15984117984771729,\n",
      "  'compression_ratio': 1.5925925970077515,\n",
      "  'end': 72.31999969482422,\n",
      "  'id': 12,\n",
      "  'no_speech_prob': 0.004949147347360849,\n",
      "  'seek': 5536,\n",
      "  'start': 66.16000366210938,\n",
      "  'temperature': 0.0,\n",
      "  'text': ' magic. In the later books, Harry learns about Horcruxes, objects '\n",
      "          \"containing pieces of Voldemort's\",\n",
      "  'tokens': [50904,\n",
      "             5585,\n",
      "             13,\n",
      "             682,\n",
      "             264,\n",
      "             1780,\n",
      "             3642,\n",
      "             11,\n",
      "             9378,\n",
      "             27152,\n",
      "             466,\n",
      "             10691,\n",
      "             66,\n",
      "             894,\n",
      "             47047,\n",
      "             11,\n",
      "             6565,\n",
      "             19273,\n",
      "             3755,\n",
      "             295,\n",
      "             48791,\n",
      "             443,\n",
      "             477,\n",
      "             311,\n",
      "             51212]},\n",
      " {'avg_logprob': -0.15984117984771729,\n",
      "  'compression_ratio': 1.5925925970077515,\n",
      "  'end': 78.4800033569336,\n",
      "  'id': 13,\n",
      "  'no_speech_prob': 0.004949147347360849,\n",
      "  'seek': 5536,\n",
      "  'start': 72.31999969482422,\n",
      "  'temperature': 0.0,\n",
      "  'text': ' soul, and embarks on a perilous quest to destroy them. The series '\n",
      "          'culminates in an epic battle at',\n",
      "  'tokens': [51212,\n",
      "             5133,\n",
      "             11,\n",
      "             293,\n",
      "             4605,\n",
      "             20851,\n",
      "             322,\n",
      "             257,\n",
      "             46118,\n",
      "             563,\n",
      "             866,\n",
      "             281,\n",
      "             5293,\n",
      "             552,\n",
      "             13,\n",
      "             440,\n",
      "             2638,\n",
      "             28583,\n",
      "             1024,\n",
      "             294,\n",
      "             364,\n",
      "             13581,\n",
      "             4635,\n",
      "             412,\n",
      "             51520]},\n",
      " {'avg_logprob': -0.15984117984771729,\n",
      "  'compression_ratio': 1.5925925970077515,\n",
      "  'end': 83.44000244140625,\n",
      "  'id': 14,\n",
      "  'no_speech_prob': 0.004949147347360849,\n",
      "  'seek': 5536,\n",
      "  'start': 78.4800033569336,\n",
      "  'temperature': 0.0,\n",
      "  'text': ' Hogwarts, where Harry must confront his own mortality and make '\n",
      "          'difficult choices to defeat',\n",
      "  'tokens': [51520,\n",
      "             46539,\n",
      "             11,\n",
      "             689,\n",
      "             9378,\n",
      "             1633,\n",
      "             12422,\n",
      "             702,\n",
      "             1065,\n",
      "             23330,\n",
      "             293,\n",
      "             652,\n",
      "             2252,\n",
      "             7994,\n",
      "             281,\n",
      "             11785,\n",
      "             51768]},\n",
      " {'avg_logprob': -0.23393066227436066,\n",
      "  'compression_ratio': 1.4240506887435913,\n",
      "  'end': 89.76000213623047,\n",
      "  'id': 15,\n",
      "  'no_speech_prob': 0.12083042412996292,\n",
      "  'seek': 8344,\n",
      "  'start': 83.44000244140625,\n",
      "  'temperature': 0.0,\n",
      "  'text': ' Voldemort once and for all. Throughout the series, themes of '\n",
      "          'friendship, bravery, and the power of',\n",
      "  'tokens': [50364,\n",
      "             48791,\n",
      "             443,\n",
      "             477,\n",
      "             1564,\n",
      "             293,\n",
      "             337,\n",
      "             439,\n",
      "             13,\n",
      "             22775,\n",
      "             264,\n",
      "             2638,\n",
      "             11,\n",
      "             13544,\n",
      "             295,\n",
      "             13216,\n",
      "             11,\n",
      "             43271,\n",
      "             11,\n",
      "             293,\n",
      "             264,\n",
      "             1347,\n",
      "             295,\n",
      "             50680]},\n",
      " {'avg_logprob': -0.23393066227436066,\n",
      "  'compression_ratio': 1.4240506887435913,\n",
      "  'end': 94.80000305175781,\n",
      "  'id': 16,\n",
      "  'no_speech_prob': 0.12083042412996292,\n",
      "  'seek': 8344,\n",
      "  'start': 89.76000213623047,\n",
      "  'temperature': 0.0,\n",
      "  'text': ' choice are explored as Harry and his friends navigate the '\n",
      "          'complexities of growing up while',\n",
      "  'tokens': [50680,\n",
      "             3922,\n",
      "             366,\n",
      "             24016,\n",
      "             382,\n",
      "             9378,\n",
      "             293,\n",
      "             702,\n",
      "             1855,\n",
      "             12350,\n",
      "             264,\n",
      "             48705,\n",
      "             295,\n",
      "             4194,\n",
      "             493,\n",
      "             1339,\n",
      "             50932]},\n",
      " {'avg_logprob': -0.23393066227436066,\n",
      "  'compression_ratio': 1.4240506887435913,\n",
      "  'end': 97.04000091552734,\n",
      "  'id': 17,\n",
      "  'no_speech_prob': 0.12083042412996292,\n",
      "  'seek': 8344,\n",
      "  'start': 94.80000305175781,\n",
      "  'temperature': 0.0,\n",
      "  'text': ' facing extraordinary circumstances.',\n",
      "  'tokens': [50932, 7170, 10581, 9121, 13, 51044]}]\n"
     ]
    }
   ],
   "source": [
    "pprint(transcription.segments)"
   ]
  },
  {
   "cell_type": "code",
   "execution_count": 18,
   "id": "902e6d3a",
   "metadata": {
    "id": "902e6d3a",
    "outputId": "eac207c9-eed3-4879-8e1d-2539d76ddcab"
   },
   "outputs": [
    {
     "name": "stdout",
     "output_type": "stream",
     "text": [
      "Harry Potter, ein junger Zauberer, entdeckt seine magischen Kräfte und besucht die Hogwarts-Schule für Hexerei und Zauberei. Dort findet er Freunde und lernt Magie, während er sich dem bösen Zauberer Voldemort stellt, der seine Eltern getötet hat. In sieben Büchern wächst Harry heran, kämpft gegen das Böse und rettet schließlich die Zaubererwelt in einem epischen finalen Kampf.\n",
      "\n"
     ]
    }
   ],
   "source": [
    "audio_file = 'audio/harrypotter_german_male.mp3'\n",
    "\n",
    "transcription = transcribe(audio_file)\n",
    "\n",
    "print(transcription)"
   ]
  },
  {
   "cell_type": "markdown",
   "id": "c9c6cb45",
   "metadata": {
    "id": "c9c6cb45"
   },
   "source": [
    "#### Can do translation as well, but there is a separate service for that"
   ]
  },
  {
   "cell_type": "code",
   "execution_count": 19,
   "id": "5863ff1f",
   "metadata": {
    "id": "5863ff1f",
    "outputId": "0552181d-b3f7-43cc-fe4e-015f56973f25"
   },
   "outputs": [
    {
     "name": "stdout",
     "output_type": "stream",
     "text": [
      "Harry Potter, a young wizard, discovers his magical powers and visits the Hogwarts School of Witchcraft and Sorcery. There he finds friends and learns magic, while he faces the evil wizard Voldemort, who killed his parents. In seven books, Harry grows up, fights against the evil and finally saves the wizarding world in an epic final battle.\n",
      "\n"
     ]
    }
   ],
   "source": [
    "audio_file = 'audio/harrypotter_german_male.mp3'\n",
    "language = 'en'\n",
    "\n",
    "transcription = transcribe(audio_file=audio_file, language=language)\n",
    "\n",
    "print(transcription)"
   ]
  },
  {
   "cell_type": "code",
   "execution_count": 22,
   "id": "9472f1b5",
   "metadata": {
    "id": "9472f1b5",
    "outputId": "e42da8fd-c119-4fcf-8fb0-bafab2bffb74"
   },
   "outputs": [
    {
     "name": "stdout",
     "output_type": "stream",
     "text": [
      "ハリー・ポッターは少年の魔術師で 魔法の力を発見し ハッグウォッチの学校を 魔術家として訪ねます そこで彼は友達を見つけ 魔法を学んでいます 悪い魔術師のウォルデモードを 見つけ 彼は父親を殺しました ハリーは7本の本を読み 悪い魔術師と戦って 最後に魔術師の世界を 最終戦で救います\n",
      "\n"
     ]
    }
   ],
   "source": [
    "audio_file = 'audio/harrypotter_german_male.mp3'\n",
    "language = 'ja'\n",
    "\n",
    "transcription = transcribe(audio_file=audio_file, language=language)\n",
    "\n",
    "print(transcription)"
   ]
  },
  {
   "cell_type": "markdown",
   "id": "60f2bcd3",
   "metadata": {
    "id": "60f2bcd3"
   },
   "source": [
    "## Translation\n",
    "\n",
    "Translate audio to English"
   ]
  },
  {
   "cell_type": "code",
   "execution_count": 23,
   "id": "36ad5849",
   "metadata": {
    "id": "36ad5849"
   },
   "outputs": [],
   "source": [
    "def translate(audio_file, response_format=\"text\"):\n",
    "    try:\n",
    "        with open(audio_file, \"rb\") as audio_file:\n",
    "            response = client.audio.translations.create(\n",
    "                file = audio_file,\n",
    "                model = WHISPER_MODEL,\n",
    "                response_format = response_format\n",
    "            )\n",
    "\n",
    "            return response\n",
    "    except Exception as e:\n",
    "        return str(e)"
   ]
  },
  {
   "cell_type": "code",
   "execution_count": 25,
   "id": "672c1f69",
   "metadata": {
    "id": "672c1f69",
    "outputId": "1b020b01-e2ac-435e-e084-ff39f7111b58"
   },
   "outputs": [
    {
     "name": "stdout",
     "output_type": "stream",
     "text": [
      "Harry Potter, a young wizard, discovers his magical powers and visits the Hogwarts School of Witchcraft and Sorcery. There he finds friends and learns magic, while he faces the evil wizard Voldemort, who killed his parents. In seven books, Harry grows up, fights against the evil and finally saves the wizarding world in an epic final battle.\n",
      "\n"
     ]
    }
   ],
   "source": [
    "audio_file = 'audio/harrypotter_german_male.mp3'\n",
    "\n",
    "translation = translate(audio_file)\n",
    "\n",
    "print(translation)"
   ]
  },
  {
   "cell_type": "markdown",
   "id": "91466f1f",
   "metadata": {},
   "source": [
    "Post-processing with GPT-4 to correct transcription issues"
   ]
  },
  {
   "cell_type": "code",
   "execution_count": 41,
   "id": "078aee4e",
   "metadata": {},
   "outputs": [
    {
     "name": "stdout",
     "output_type": "stream",
     "text": [
      "Harry Potter, an orphan boy living with his neglectful aunt and uncle, discovers on his 11th birthday that he's a wizard and has been accepted to Hogwarts School of Witchcraft and Wizardry. At Hogwarts, Harry makes friends with Ron Weasley and Hermione Granger and learns about the magical world he never knew existed. He also discovers that his parents were murdered by the dark wizard Voldemort, who tried to kill Harry as a baby but mysteriously failed, leaving Harry with a lightning bolt scar. Over seven years at Hogwarts, Harry faces numerous challenges and adventures, from confronting a troll in his first year to competing in the dangerous Triwizard Tournament in his fourth. Each year brings new defense against the dark arts teachers, some helpful and others harboring dark secrets. As Harry grows, he learns more about his connection to Voldemort, including a prophecy that links their fates. Voldemort, meanwhile, slowly regains power and gathers his Death Eater followers. Harry receives guidance from Hogwarts Headmaster Albus Dumbledore, who helps him understand the power of love and sacrifice in magic. In the later books, Harry learns about Horcruxes, objects containing pieces of Voldemort's soul, and embarks on a perilous quest to destroy them. The series culminates in an epic battle at Hogwarts, where Harry must confront his own mortality and make difficult choices to defeat Voldemort once and for all. Throughout the series, themes of friendship, bravery, and the power of choice are explored, as Harry and his friends navigate the complexities of growing up while facing extraordinary circumstances.\n",
      "\n"
     ]
    }
   ],
   "source": [
    "audio_file = 'audio/harrypotter_singaporeaccent_male.mp3'\n",
    "\n",
    "transcription = transcribe(audio_file=audio_file)\n",
    "\n",
    "print(transcription)"
   ]
  },
  {
   "cell_type": "code",
   "execution_count": 42,
   "id": "9cebe4bb",
   "metadata": {},
   "outputs": [
    {
     "data": {
      "text/plain": [
       "\"Harry Potter, an orphan boy living with his neglectful aunt and uncle, discovers on his 11th birthday that he's a wizard and has been accepted to Hogwarts School of Witchcraft and Wizardry. At Hogwarts, Harry makes friends with Ron Weasley and Hermione Granger and learns about the magical world he never knew existed. He also discovers that his parents were murdered by the dark wizard Voldemort, who tried to kill Harry as a baby but mysteriously failed, leaving Harry with a lightning bolt scar. Over seven years at Hogwarts, Harry faces numerous challenges and adventures, from confronting a troll in his first year to competing in the dangerous Triwizard Tournament in his fourth. Each year brings new Defense Against the Dark Arts teachers, some helpful and others harboring dark secrets. As Harry grows, he learns more about his connection to Voldemort, including a prophecy that links their fates. Voldemort, meanwhile, slowly regains power and gathers his Death Eater followers. Harry receives guidance from Hogwarts Headmaster Albus Dumbledore, who helps him understand the power of love and sacrifice in magic. In the later books, Harry learns about Horcruxes, objects containing pieces of Voldemort's soul, and embarks on a perilous quest to destroy them. The series culminates in an epic battle at Hogwarts, where Harry must confront his own mortality and make difficult choices to defeat Voldemort once and for all. Throughout the series, themes of friendship, bravery, and the power of choice are explored, as Harry and his friends navigate the complexities of growing up while facing extraordinary circumstances.\""
      ]
     },
     "execution_count": 42,
     "metadata": {},
     "output_type": "execute_result"
    }
   ],
   "source": [
    "system_prompt = \"\"\"\n",
    "    Your task is to correct any spelling discrepancies in the transcribed text. \n",
    "\"\"\"\n",
    "\n",
    "def generate_corrected_transcript(system_prompt, audio_file):\n",
    "    response = client.chat.completions.create(\n",
    "        model=\"gpt-4o\",\n",
    "        messages=[\n",
    "            {\n",
    "                \"role\": \"system\",\n",
    "                \"content\": system_prompt\n",
    "            },\n",
    "            {\n",
    "                \"role\": \"user\",\n",
    "                \"content\": transcribe(audio_file)\n",
    "            }\n",
    "        ]\n",
    "    )\n",
    "    return response.choices[0].message.content\n",
    "\n",
    "audio_file = 'audio/harrypotter_singaporeaccent_male.mp3'\n",
    "\n",
    "corrected_text = generate_corrected_transcript(system_prompt, audio_file)\n",
    "\n",
    "corrected_text"
   ]
  },
  {
   "cell_type": "markdown",
   "id": "014cb35a",
   "metadata": {
    "id": "014cb35a"
   },
   "source": [
    "### Speech"
   ]
  },
  {
   "cell_type": "code",
   "execution_count": 50,
   "id": "80efcf34",
   "metadata": {
    "id": "80efcf34"
   },
   "outputs": [],
   "source": [
    "def convert_to_speech(input_text, filename=\"speech.mp3\", voice='alloy'):\n",
    "    try:\n",
    "        with client.audio.speech.with_streaming_response.create(\n",
    "            model = 'tts-1',\n",
    "            input = input_text,\n",
    "            voice = voice,\n",
    "            response_format = 'mp3'\n",
    "        ) as response:\n",
    "\n",
    "            if not os.path.exists(\"./speech\"):\n",
    "                os.makedirs(\"./speech\")\n",
    "\n",
    "            speech_file_path = f\"./speech/{filename}\"\n",
    "\n",
    "            response.stream_to_file(speech_file_path)\n",
    "    except Exception as e:\n",
    "        print(e)"
   ]
  },
  {
   "cell_type": "code",
   "execution_count": 51,
   "id": "e16b122f",
   "metadata": {
    "id": "e16b122f"
   },
   "outputs": [],
   "source": [
    "convert_to_speech(\n",
    "    \"\"\"\n",
    "        An orphaned boy discovers he's a wizard, attends a magical school,\n",
    "        and battles the dark lord who killed his parents while growing up and saving the wizarding world.\n",
    "    \"\"\",\n",
    "    filename = \"harrypotter_alloy_en.mp3\"\n",
    ")"
   ]
  },
  {
   "cell_type": "code",
   "execution_count": 52,
   "id": "04fcc1ad",
   "metadata": {
    "id": "04fcc1ad"
   },
   "outputs": [],
   "source": [
    "convert_to_speech(\n",
    "    \"\"\"\n",
    "        An orphaned boy discovers he's a wizard, attends a magical school,\n",
    "        and battles the dark lord who killed his parents while growing up and saving the wizarding world.\n",
    "    \"\"\",\n",
    "    voice = \"echo\",\n",
    "    filename = \"harrypotter_echo_en.mp3\"\n",
    ")"
   ]
  },
  {
   "cell_type": "code",
   "execution_count": 53,
   "id": "c2ac9ffd",
   "metadata": {
    "id": "c2ac9ffd"
   },
   "outputs": [],
   "source": [
    "convert_to_speech(\n",
    "    \"\"\"\n",
    "        An orphaned boy discovers he's a wizard, attends a magical school,\n",
    "        and battles the dark lord who killed his parents while growing up and saving the wizarding world.\n",
    "    \"\"\",\n",
    "    voice = \"onyx\",\n",
    "    filename = \"harrypotter_onyx_en.mp3\"\n",
    ")"
   ]
  },
  {
   "cell_type": "code",
   "execution_count": null,
   "id": "3fc8996c",
   "metadata": {
    "id": "3fc8996c"
   },
   "outputs": [],
   "source": [
    "convert_to_speech(\n",
    "    \"\"\"\n",
    "        Ein Waisenjunge entdeckt, dass er ein Zauberer ist, besucht eine magische Schule \n",
    "        und kämpft gegen den dunklen Lord, der seine Eltern getötet hat, während er \n",
    "        erwachsen wird und die Zauberwelt rettet.\n",
    "    \"\"\",\n",
    "    filename = \"harrypotter_alloy_de.mp3\"\n",
    ")"
   ]
  },
  {
   "cell_type": "code",
   "execution_count": 54,
   "id": "68cfcd62",
   "metadata": {
    "id": "68cfcd62"
   },
   "outputs": [],
   "source": [
    "convert_to_speech(\n",
    "    \"\"\"\n",
    "        அனாதையாக வளர்ந்த ஒரு சிறுவன் தான் ஒரு மாயவித்தைக்காரன் என்பதைக் கண்டறிந்து, \n",
    "        மந்திர பள்ளியில் சேர்ந்து, தன் பெற்றோரைக் கொன்ற இருண்ட சக்திகளுடன் போராடி, வளர்ந்து வரும் \n",
    "        வேளையில் மாய உலகத்தைக் காப்பாற்றுகிறான்.\n",
    "    \"\"\",\n",
    "    filename = \"harrypotter_alloy_tn.mp3\"\n",
    ")"
   ]
  },
  {
   "cell_type": "code",
   "execution_count": null,
   "id": "46a0839c",
   "metadata": {
    "id": "46a0839c"
   },
   "outputs": [],
   "source": []
  }
 ],
 "metadata": {
  "colab": {
   "provenance": []
  },
  "kernelspec": {
   "display_name": "openai_apis_venv",
   "language": "python",
   "name": "openai_apis_venv"
  },
  "language_info": {
   "codemirror_mode": {
    "name": "ipython",
    "version": 3
   },
   "file_extension": ".py",
   "mimetype": "text/x-python",
   "name": "python",
   "nbconvert_exporter": "python",
   "pygments_lexer": "ipython3",
   "version": "3.10.9"
  }
 },
 "nbformat": 4,
 "nbformat_minor": 5
}
