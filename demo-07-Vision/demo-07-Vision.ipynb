{
 "cells": [
  {
   "cell_type": "code",
   "execution_count": 5,
   "id": "b4adb3d1",
   "metadata": {
    "id": "b4adb3d1",
    "outputId": "1ced81cc-8061-4d2c-cf38-1494fb797b2f"
   },
   "outputs": [
    {
     "name": "stdout",
     "output_type": "stream",
     "text": [
      "Collecting requests\n",
      "  Downloading requests-2.32.3-py3-none-any.whl (64 kB)\n",
      "\u001b[2K     \u001b[90m━━━━━━━━━━━━━━━━━━━━━━━━━━━━━━━━━━━━━━━\u001b[0m \u001b[32m64.9/64.9 kB\u001b[0m \u001b[31m512.8 kB/s\u001b[0m eta \u001b[36m0:00:00\u001b[0ma \u001b[36m0:00:01\u001b[0m\n",
      "\u001b[?25hCollecting charset-normalizer<4,>=2\n",
      "  Using cached charset_normalizer-3.3.2-cp310-cp310-macosx_10_9_x86_64.whl (122 kB)\n",
      "Requirement already satisfied: certifi>=2017.4.17 in /Users/loonycorn/Desktop/iMovieLibrary/OReilly/OpenAIAPIs/openai_apis_venv/lib/python3.10/site-packages (from requests) (2024.6.2)\n",
      "Collecting urllib3<3,>=1.21.1\n",
      "  Downloading urllib3-2.2.2-py3-none-any.whl (121 kB)\n",
      "\u001b[2K     \u001b[90m━━━━━━━━━━━━━━━━━━━━━━━━━━━━━━━━━━━━━━━\u001b[0m \u001b[32m121.4/121.4 kB\u001b[0m \u001b[31m2.3 MB/s\u001b[0m eta \u001b[36m0:00:00\u001b[0ma \u001b[36m0:00:01\u001b[0m\n",
      "\u001b[?25hRequirement already satisfied: idna<4,>=2.5 in /Users/loonycorn/Desktop/iMovieLibrary/OReilly/OpenAIAPIs/openai_apis_venv/lib/python3.10/site-packages (from requests) (3.7)\n",
      "Installing collected packages: urllib3, charset-normalizer, requests\n",
      "Successfully installed charset-normalizer-3.3.2 requests-2.32.3 urllib3-2.2.2\n",
      "\n",
      "\u001b[1m[\u001b[0m\u001b[34;49mnotice\u001b[0m\u001b[1;39;49m]\u001b[0m\u001b[39;49m A new release of pip available: \u001b[0m\u001b[31;49m22.3.1\u001b[0m\u001b[39;49m -> \u001b[0m\u001b[32;49m24.1\u001b[0m\n",
      "\u001b[1m[\u001b[0m\u001b[34;49mnotice\u001b[0m\u001b[1;39;49m]\u001b[0m\u001b[39;49m To update, run: \u001b[0m\u001b[32;49mpip install --upgrade pip\u001b[0m\n",
      "Note: you may need to restart the kernel to use updated packages.\n"
     ]
    }
   ],
   "source": [
    "pip install requests"
   ]
  },
  {
   "cell_type": "code",
   "execution_count": 6,
   "id": "f20092e2",
   "metadata": {
    "id": "f20092e2"
   },
   "outputs": [],
   "source": [
    "import openai\n",
    "from openai import OpenAI\n",
    "\n",
    "import base64\n",
    "import requests\n",
    "\n",
    "from pprint import pprint\n",
    "\n",
    "import os"
   ]
  },
  {
   "cell_type": "code",
   "execution_count": 7,
   "id": "b5fbdd95",
   "metadata": {
    "id": "b5fbdd95"
   },
   "outputs": [],
   "source": [
    "api_key = \"\"\n",
    "\n",
    "os.environ[\"OPENAI_API_KEY\"] = api_key\n",
    "\n",
    "client = OpenAI()"
   ]
  },
  {
   "cell_type": "code",
   "execution_count": 8,
   "id": "dde5624e",
   "metadata": {
    "id": "dde5624e"
   },
   "outputs": [],
   "source": [
    "def generate_vision_response(image_url, question):\n",
    "\n",
    "    try:\n",
    "        response = client.chat.completions.create(\n",
    "          model=\"gpt-4o\",\n",
    "          messages=[\n",
    "              {\n",
    "                  \"role\": \"user\",\n",
    "                  \"content\": [\n",
    "                      {\"type\": \"text\", \"text\": question},\n",
    "                      {\n",
    "                          \"type\": \"image_url\",\n",
    "                          \"image_url\": {\n",
    "                                  \"url\": image_url,\n",
    "                          },\n",
    "                      },\n",
    "                  ],\n",
    "              }\n",
    "          ],\n",
    "\n",
    "          max_tokens=300,\n",
    "        )\n",
    "\n",
    "        print(response.choices[0].message.content)\n",
    "    except Exception as e:\n",
    "        print(e)"
   ]
  },
  {
   "cell_type": "code",
   "execution_count": 11,
   "id": "9c8b9e37",
   "metadata": {
    "id": "9c8b9e37",
    "outputId": "5e1c352b-6d5b-48d6-d53f-60177e12d9b6"
   },
   "outputs": [
    {
     "name": "stdout",
     "output_type": "stream",
     "text": [
      "This image depicts a large group of people gathered around several hot air balloons, which are in the process of being inflated on the ground. The balloons have various colorful designs, with one balloon featuring a large character that resembles Mickey Mouse. The scene suggests a festive or gathering atmosphere, likely a hot air balloon festival or event. The crowd appears to be enjoying the display and possibly preparing for the balloons to take flight.\n"
     ]
    }
   ],
   "source": [
    "generate_vision_response(\n",
    "    \"https://upload.wikimedia.org/wikipedia/commons/3/3d/Leon_international_hot_air_ballon_festival_nov_2012.jpg\",\n",
    "    \"Could you explain what is present in this image?\"\n",
    ")"
   ]
  },
  {
   "cell_type": "code",
   "execution_count": 12,
   "id": "656ae1f9",
   "metadata": {
    "id": "656ae1f9",
    "outputId": "779dc462-3085-4741-d9af-b7c7844eaf3f"
   },
   "outputs": [
    {
     "name": "stdout",
     "output_type": "stream",
     "text": [
      "The people in the image appear to be attending a hot air balloon festival. The scene shows various colorful hot air balloons, including a prominent one shaped like a well-known cartoon character. The people may be watching the balloons being inflated or preparing for takeoff, typical activities at such festivals. Some are likely taking photos, while others are enjoying the atmosphere and watching the spectacular display of balloons.\n"
     ]
    }
   ],
   "source": [
    "generate_vision_response(\n",
    "    \"https://upload.wikimedia.org/wikipedia/commons/3/3d/Leon_international_hot_air_ballon_festival_nov_2012.jpg\",\n",
    "    \"What do you think the people are trying to do?\"\n",
    ")"
   ]
  },
  {
   "cell_type": "code",
   "execution_count": 13,
   "id": "88876752",
   "metadata": {
    "id": "88876752",
    "outputId": "49ebb02b-b007-45d5-b963-a9a077903f3d"
   },
   "outputs": [
    {
     "name": "stdout",
     "output_type": "stream",
     "text": [
      "This image depicts a harness race, where horses are pulling a two-wheeled cart called a sulky. The riders, or drivers, sit in the sulkies and guide the horses during the race. The horses appear to be galloping at a fast pace, and the ground looks wet, possibly due to recent rain or because the race is taking place on a beach or shallow water area. The image is in black and white, adding a timeless and dramatic effect to the scene. There is a lot of energy and movement captured as the horses and sulkies create splashes in the water. The leading horse and its driver are prominently in focus, with other competitors visible in the background.\n"
     ]
    }
   ],
   "source": [
    "generate_vision_response(\n",
    "    \"https://images.pexels.com/photos/802861/pexels-photo-802861.jpeg?\",\n",
    "    \"Can you describe what is going on in this image?\"\n",
    ")"
   ]
  },
  {
   "cell_type": "code",
   "execution_count": 14,
   "id": "056501b9",
   "metadata": {
    "id": "056501b9",
    "outputId": "55d4f08f-a045-435c-fe31-4f4f61aa1113"
   },
   "outputs": [
    {
     "name": "stdout",
     "output_type": "stream",
     "text": [
      "The car appears to be stuck in water due to flooding. The area is clearly inundated with water, likely from heavy rainfall, a storm, or overflowing water bodies. Flooded streets can lead to situations where vehicles get submerged or stranded, as seen in this photograph.\n"
     ]
    }
   ],
   "source": [
    "generate_vision_response(\n",
    "    \"https://images.pexels.com/photos/20989108/pexels-photo-20989108/free-photo-of-man-pushing-car-on-street-in-water.jpeg\",\n",
    "    \"What do you think is the reason the car has got into this state?\"\n",
    ")"
   ]
  },
  {
   "cell_type": "code",
   "execution_count": 15,
   "id": "7da2c635",
   "metadata": {
    "id": "7da2c635"
   },
   "outputs": [],
   "source": [
    "def generate_vision_response_from_file(image_path, question):\n",
    "    with open(image_path, \"rb\") as image_file:\n",
    "        base64_image = base64.b64encode(image_file.read()).decode('utf-8')\n",
    "\n",
    "    headers = {\n",
    "      \"Content-Type\": \"application/json\",\n",
    "      \"Authorization\": f\"Bearer {api_key}\"\n",
    "    }\n",
    "\n",
    "    payload = {\n",
    "      \"model\": \"gpt-4o\",\n",
    "      \"messages\": [\n",
    "        {\n",
    "          \"role\": \"user\",\n",
    "          \"content\": [\n",
    "            {\n",
    "              \"type\": \"text\",\n",
    "              \"text\": question\n",
    "            },\n",
    "            {\n",
    "              \"type\": \"image_url\",\n",
    "              \"image_url\": {\n",
    "                \"url\": f\"data:image/jpeg;base64,{base64_image}\"\n",
    "              }\n",
    "            }\n",
    "          ]\n",
    "        }\n",
    "      ],\n",
    "      \"max_tokens\": 300\n",
    "    }\n",
    "\n",
    "    response = requests.post(\n",
    "        \"https://api.openai.com/v1/chat/completions\",\n",
    "        headers=headers, json=payload\n",
    "    )\n",
    "\n",
    "    pprint(response.json())"
   ]
  },
  {
   "cell_type": "code",
   "execution_count": 17,
   "id": "cdf0c76a",
   "metadata": {
    "id": "cdf0c76a",
    "outputId": "1a94e80b-93e8-4643-efd5-34ccf5a078c2"
   },
   "outputs": [
    {
     "name": "stdout",
     "output_type": "stream",
     "text": [
      "{'choices': [{'finish_reason': 'stop',\n",
      "              'index': 0,\n",
      "              'logprobs': None,\n",
      "              'message': {'content': 'The chart displays a scatter plot with a '\n",
      "                                     'regression line, aiming to depict the '\n",
      "                                     'relationship between \"Time on App\" (in '\n",
      "                                     'hours) and \"Yearly Amount Spent\" (in '\n",
      "                                     'dollars).\\n'\n",
      "                                     '\\n'\n",
      "                                     'From the chart, we can interpret the '\n",
      "                                     'following:\\n'\n",
      "                                     '\\n'\n",
      "                                     '1. **Positive Correlation**: There is a '\n",
      "                                     'positive correlation between the time '\n",
      "                                     'spent on the app and the yearly amount '\n",
      "                                     'spent. This means that, generally, as '\n",
      "                                     'the time on the app increases, the '\n",
      "                                     'yearly amount spent also increases.\\n'\n",
      "                                     '\\n'\n",
      "                                     '2. **Trend Line**: The red regression '\n",
      "                                     'line, along with its confidence interval '\n",
      "                                     'shaded in pink, indicates the average '\n",
      "                                     'trend of the data. The upward slope of '\n",
      "                                     'the line confirms the positive '\n",
      "                                     'relationship between the two variables.\\n'\n",
      "                                     '\\n'\n",
      "                                     '3. **Data Dispersion**: The spread of '\n",
      "                                     'the blue dots around the regression line '\n",
      "                                     'suggests variability in the data. While '\n",
      "                                     'there is a general trend of increasing '\n",
      "                                     'spending with more app usage, this is '\n",
      "                                     'not absolute, as there are many points '\n",
      "                                     'that deviate from the line, indicating '\n",
      "                                     'other factors may also be influencing '\n",
      "                                     'yearly spending.\\n'\n",
      "                                     '\\n'\n",
      "                                     '4. **Outliers**: There are a few '\n",
      "                                     'outliers in the data, which are points '\n",
      "                                     'that lie far away from the general '\n",
      "                                     'trend. For instance, some users spend a '\n",
      "                                     'lot even with less time on the app and '\n",
      "                                     'vice versa.\\n'\n",
      "                                     '\\n'\n",
      "                                     'In summary, there is a noticeable '\n",
      "                                     'positive relationship between the time '\n",
      "                                     'spent on the app and the yearly amount '\n",
      "                                     'spent, though individual spending habits '\n",
      "                                     'can vary significantly.',\n",
      "                          'role': 'assistant'}}],\n",
      " 'created': 1719376236,\n",
      " 'id': 'chatcmpl-9eEaixsBoXXyDiw2T3e41V2jI9881',\n",
      " 'model': 'gpt-4o-2024-05-13',\n",
      " 'object': 'chat.completion',\n",
      " 'system_fingerprint': 'fp_9cb5d38cf7',\n",
      " 'usage': {'completion_tokens': 282, 'prompt_tokens': 443, 'total_tokens': 725}}\n"
     ]
    }
   ],
   "source": [
    "generate_vision_response_from_file(\n",
    "    \"images/relationship_exists.png\",\n",
    "    \"Could you interpret the relationship that exists in the chart?\"\n",
    ")"
   ]
  },
  {
   "cell_type": "code",
   "execution_count": 18,
   "id": "e79df562",
   "metadata": {
    "id": "e79df562",
    "outputId": "fd2ca3d4-5b93-4121-e5cb-712bac689267"
   },
   "outputs": [
    {
     "name": "stdout",
     "output_type": "stream",
     "text": [
      "{'choices': [{'finish_reason': 'length',\n",
      "              'index': 0,\n",
      "              'logprobs': None,\n",
      "              'message': {'content': 'This histogram represents the '\n",
      "                                     'distribution of a dataset related to '\n",
      "                                     '\"claim\" amounts. Here are the key '\n",
      "                                     'characteristics of the data:\\n'\n",
      "                                     '\\n'\n",
      "                                     '1. **Right-Skewed Distribution**: The '\n",
      "                                     'histogram shows a clear right-skewed '\n",
      "                                     '(positively skewed) distribution, where '\n",
      "                                     'most of the claims are concentrated on '\n",
      "                                     'the lower end of the scale, with fewer '\n",
      "                                     'claims as the amount increases.\\n'\n",
      "                                     '2. **Peak and Mode**: The most frequent '\n",
      "                                     '(modal) claim amount is close to 0. This '\n",
      "                                     'is indicated by the highest bar on the '\n",
      "                                     'left side of the histogram.\\n'\n",
      "                                     '3. **Range**: The claims range from '\n",
      "                                     'around 0 to over 60,000. \\n'\n",
      "                                     '4. **Frequency of Claims**: \\n'\n",
      "                                     '    - The majority of claims are below '\n",
      "                                     '10,000.\\n'\n",
      "                                     '    - There is a noticeable drop in the '\n",
      "                                     'number of claims between 10,000 to '\n",
      "                                     '20,000.\\n'\n",
      "                                     '    - After 20,000, the frequency of '\n",
      "                                     'claims gradually continues to decrease.\\n'\n",
      "                                     '5. **Tail**: There is a long tail '\n",
      "                                     'extending towards the higher claim '\n",
      "                                     'amounts, indicating that while high '\n",
      "                                     'claim amounts are less frequent, they do '\n",
      "                                     'occur.\\n'\n",
      "                                     '6. **Density Line**: The density line '\n",
      "                                     '(the smooth curve overlaying the '\n",
      "                                     'histogram) also supports the observation '\n",
      "                                     'of a right-skewed distribution, clearly '\n",
      "                                     'showing a peak at the low end and '\n",
      "                                     'tapering off as claims increase.\\n'\n",
      "                                     '\\n'\n",
      "                                     'In conclusion, the data depicts that '\n",
      "                                     'most claims are on the smaller end, with '\n",
      "                                     'a few larger claims extending the range '\n",
      "                                     'up to over',\n",
      "                          'role': 'assistant'}}],\n",
      " 'created': 1719376295,\n",
      " 'id': 'chatcmpl-9eEbfDgpfeRDblvZBAUG5t97pkH6b',\n",
      " 'model': 'gpt-4o-2024-05-13',\n",
      " 'object': 'chat.completion',\n",
      " 'system_fingerprint': 'fp_4008e3b719',\n",
      " 'usage': {'completion_tokens': 300,\n",
      "           'prompt_tokens': 781,\n",
      "           'total_tokens': 1081}}\n"
     ]
    }
   ],
   "source": [
    "generate_vision_response_from_file(\n",
    "    \"images/skewed.png\",\n",
    "    \"Can you describe the characteristics of this data?\"\n",
    ")"
   ]
  },
  {
   "cell_type": "code",
   "execution_count": 19,
   "id": "3afa6578",
   "metadata": {
    "id": "3afa6578",
    "outputId": "b3f97088-3055-4dde-f90f-adba0734e1cd"
   },
   "outputs": [
    {
     "name": "stdout",
     "output_type": "stream",
     "text": [
      "{'choices': [{'finish_reason': 'length',\n",
      "              'index': 0,\n",
      "              'logprobs': None,\n",
      "              'message': {'content': 'With the ingredients in the image, you '\n",
      "                                     'can create a variety of dishes. Here are '\n",
      "                                     'a few ideas:\\n'\n",
      "                                     '\\n'\n",
      "                                     '### 1. **Roasted Vegetable Medley**\\n'\n",
      "                                     '**Ingredients:**\\n'\n",
      "                                     '- Asparagus\\n'\n",
      "                                     '- Brussels sprouts\\n'\n",
      "                                     '- Broccoli\\n'\n",
      "                                     '- Potatoes (sweet and regular)\\n'\n",
      "                                     '- Radishes\\n'\n",
      "                                     '- Romanesco broccoli\\n'\n",
      "                                     '- Red onion\\n'\n",
      "                                     '- Snow peas\\n'\n",
      "                                     '- Ginger (for added flavor)\\n'\n",
      "                                     '- Chili peppers (for heat, if desired)\\n'\n",
      "                                     '- Olive oil, salt, pepper\\n'\n",
      "                                     '\\n'\n",
      "                                     '**Instructions:**\\n'\n",
      "                                     '1. Preheat the oven to 400°F (200°C).\\n'\n",
      "                                     '2. Chop all the vegetables into '\n",
      "                                     'similar-sized pieces.\\n'\n",
      "                                     '3. Toss the vegetables with olive oil, '\n",
      "                                     'salt, and pepper. Add chopped ginger and '\n",
      "                                     'chili peppers for extra flavor and '\n",
      "                                     'heat.\\n'\n",
      "                                     '4. Spread the vegetables on a baking '\n",
      "                                     'sheet in a single layer.\\n'\n",
      "                                     '5. Roast for about 25-30 minutes or '\n",
      "                                     'until the vegetables are tender and '\n",
      "                                     'slightly golden.\\n'\n",
      "                                     '\\n'\n",
      "                                     '### 2. **Vegetable Stir-Fry**\\n'\n",
      "                                     '**Ingredients:**\\n'\n",
      "                                     '- Asparagus\\n'\n",
      "                                     '- Brussels sprouts\\n'\n",
      "                                     '- Broccoli\\n'\n",
      "                                     '- Snow peas\\n'\n",
      "                                     '- Red onion\\n'\n",
      "                                     '- Ginger\\n'\n",
      "                                     '- Chili peppers\\n'\n",
      "                                     '- Olive oil or sesame oil\\n'\n",
      "                                     '- Soy sauce, salt\\n'\n",
      "                                     '\\n'\n",
      "                                     '**Instructions:**\\n'\n",
      "                                     '1. Cut all the vegetables into '\n",
      "                                     'bite-sized pieces.\\n'\n",
      "                                     '2. In a large pan or wok, heat the oil '\n",
      "                                     'over medium-high heat.\\n'\n",
      "                                     '3. Add chopped ginger and chili peppers '\n",
      "                                     'to the hot oil and sauté for about 1 '\n",
      "                                     'minute.\\n'\n",
      "                                     '4. Add the onions and',\n",
      "                          'role': 'assistant'}}],\n",
      " 'created': 1719376343,\n",
      " 'id': 'chatcmpl-9eEcRXtEvN1ChuGTeZV3uHMrsVW5f',\n",
      " 'model': 'gpt-4o-2024-05-13',\n",
      " 'object': 'chat.completion',\n",
      " 'system_fingerprint': 'fp_4008e3b719',\n",
      " 'usage': {'completion_tokens': 300,\n",
      "           'prompt_tokens': 1120,\n",
      "           'total_tokens': 1420}}\n"
     ]
    }
   ],
   "source": [
    "generate_vision_response_from_file(\n",
    "    \"images/ingredients.jpg\",\n",
    "    \"What can I cook using these ingredients?\"\n",
    ")"
   ]
  },
  {
   "cell_type": "code",
   "execution_count": null,
   "id": "ec69c638",
   "metadata": {
    "id": "ec69c638"
   },
   "outputs": [],
   "source": []
  }
 ],
 "metadata": {
  "colab": {
   "provenance": []
  },
  "kernelspec": {
   "display_name": "openai_apis_venv",
   "language": "python",
   "name": "openai_apis_venv"
  },
  "language_info": {
   "codemirror_mode": {
    "name": "ipython",
    "version": 3
   },
   "file_extension": ".py",
   "mimetype": "text/x-python",
   "name": "python",
   "nbconvert_exporter": "python",
   "pygments_lexer": "ipython3",
   "version": "3.10.9"
  }
 },
 "nbformat": 4,
 "nbformat_minor": 5
}
