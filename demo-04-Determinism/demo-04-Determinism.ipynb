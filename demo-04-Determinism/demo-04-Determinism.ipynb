{
 "cells": [
  {
   "cell_type": "markdown",
   "id": "2048c4be",
   "metadata": {},
   "source": [
    "*ROUGE (Recall-Oriented Understudy for Gisting Evaluation)* is a set of metrics used to evaluate the quality of automatic summaries of text. It compares a machine-generated summary to a set of human-written reference summaries.\n",
    "\n",
    "Focus on Recall: ROUGE focuses on recall, which means it measures how much of the important information from the original text is captured in the summary. It doesn't penalize the model for including information not present in the original text (precision).\n",
    "\n",
    "N-gram Overlap: ROUGE scores are based on the overlap between the n-grams (sequences of n words) in the machine-generated summary and the reference summaries. The most common n-grams used are:\n",
    "\n",
    "- ROUGE-1 (unigram): This measures the overlap of single words between the summary and references.\n",
    "- ROUGE-2 (bigram): This measures the overlap of two-word phrases.\n",
    "- ROUGE-L (Longest Common Subsequence): This considers the longest sequence of words that appears in both the summary and a reference summary.\n",
    "\n",
    "\n",
    "Score Calculation: ROUGE scores are typically between 0 and 1, with a higher score indicating a better match between the summary and the reference summaries. The score represents the ratio between the number of matching n-grams in the summary and the total number of n-grams in the reference summaries."
   ]
  },
  {
   "cell_type": "code",
   "execution_count": 1,
   "id": "7611fd41",
   "metadata": {
    "id": "7611fd41"
   },
   "outputs": [
    {
     "name": "stdout",
     "output_type": "stream",
     "text": [
      "Collecting rouge-score\n",
      "  Downloading rouge_score-0.1.2.tar.gz (17 kB)\n",
      "  Preparing metadata (setup.py) ... \u001b[?25ldone\n",
      "\u001b[?25hCollecting absl-py\n",
      "  Downloading absl_py-2.1.0-py3-none-any.whl (133 kB)\n",
      "\u001b[2K     \u001b[90m━━━━━━━━━━━━━━━━━━━━━━━━━━━━━━━━━━━━━━━\u001b[0m \u001b[32m133.7/133.7 kB\u001b[0m \u001b[31m1.5 MB/s\u001b[0m eta \u001b[36m0:00:00\u001b[0m00:01\u001b[0m\n",
      "\u001b[?25hCollecting nltk\n",
      "  Downloading nltk-3.8.1-py3-none-any.whl (1.5 MB)\n",
      "\u001b[2K     \u001b[90m━━━━━━━━━━━━━━━━━━━━━━━━━━━━━━━━━━━━━━━━\u001b[0m \u001b[32m1.5/1.5 MB\u001b[0m \u001b[31m9.5 MB/s\u001b[0m eta \u001b[36m0:00:00\u001b[0mta \u001b[36m0:00:01\u001b[0m\n",
      "\u001b[?25hRequirement already satisfied: numpy in /Users/loonycorn/Desktop/iMovieLibrary/OReilly/OpenAIAPIs/openai_apis_venv/lib/python3.10/site-packages (from rouge-score) (2.0.0)\n",
      "Requirement already satisfied: six>=1.14.0 in /Users/loonycorn/Desktop/iMovieLibrary/OReilly/OpenAIAPIs/openai_apis_venv/lib/python3.10/site-packages (from rouge-score) (1.16.0)\n",
      "Collecting click\n",
      "  Using cached click-8.1.7-py3-none-any.whl (97 kB)\n",
      "Requirement already satisfied: tqdm in /Users/loonycorn/Desktop/iMovieLibrary/OReilly/OpenAIAPIs/openai_apis_venv/lib/python3.10/site-packages (from nltk->rouge-score) (4.66.4)\n",
      "Collecting joblib\n",
      "  Downloading joblib-1.4.2-py3-none-any.whl (301 kB)\n",
      "\u001b[2K     \u001b[90m━━━━━━━━━━━━━━━━━━━━━━━━━━━━━━━━━━━━━━━\u001b[0m \u001b[32m301.8/301.8 kB\u001b[0m \u001b[31m1.6 MB/s\u001b[0m eta \u001b[36m0:00:00\u001b[0m00:01\u001b[0m\n",
      "\u001b[?25hCollecting regex>=2021.8.3\n",
      "  Downloading regex-2024.5.15-cp310-cp310-macosx_10_9_x86_64.whl (281 kB)\n",
      "\u001b[2K     \u001b[90m━━━━━━━━━━━━━━━━━━━━━━━━━━━━━━━━━━━━━━\u001b[0m \u001b[32m281.7/281.7 kB\u001b[0m \u001b[31m10.2 MB/s\u001b[0m eta \u001b[36m0:00:00\u001b[0m\n",
      "\u001b[?25hInstalling collected packages: regex, joblib, click, absl-py, nltk, rouge-score\n",
      "\u001b[33m  DEPRECATION: rouge-score is being installed using the legacy 'setup.py install' method, because it does not have a 'pyproject.toml' and the 'wheel' package is not installed. pip 23.1 will enforce this behaviour change. A possible replacement is to enable the '--use-pep517' option. Discussion can be found at https://github.com/pypa/pip/issues/8559\u001b[0m\u001b[33m\n",
      "\u001b[0m  Running setup.py install for rouge-score ... \u001b[?25ldone\n",
      "\u001b[?25hSuccessfully installed absl-py-2.1.0 click-8.1.7 joblib-1.4.2 nltk-3.8.1 regex-2024.5.15 rouge-score-0.1.2\n",
      "\n",
      "\u001b[1m[\u001b[0m\u001b[34;49mnotice\u001b[0m\u001b[1;39;49m]\u001b[0m\u001b[39;49m A new release of pip available: \u001b[0m\u001b[31;49m22.3.1\u001b[0m\u001b[39;49m -> \u001b[0m\u001b[32;49m24.1\u001b[0m\n",
      "\u001b[1m[\u001b[0m\u001b[34;49mnotice\u001b[0m\u001b[1;39;49m]\u001b[0m\u001b[39;49m To update, run: \u001b[0m\u001b[32;49mpip install --upgrade pip\u001b[0m\n",
      "Note: you may need to restart the kernel to use updated packages.\n"
     ]
    }
   ],
   "source": [
    "pip install rouge-score"
   ]
  },
  {
   "cell_type": "code",
   "execution_count": 3,
   "id": "e8c1a1b8",
   "metadata": {
    "id": "e8c1a1b8"
   },
   "outputs": [],
   "source": [
    "from time import sleep\n",
    "from datetime import datetime\n",
    "\n",
    "import openai\n",
    "from openai import OpenAI\n",
    "\n",
    "import pprint\n",
    "import difflib\n",
    "from IPython.display import display, HTML\n",
    "\n",
    "from rouge_score import rouge_scorer\n",
    "\n",
    "import os"
   ]
  },
  {
   "cell_type": "code",
   "execution_count": 4,
   "id": "e20eff96",
   "metadata": {
    "id": "e20eff96"
   },
   "outputs": [],
   "source": [
    "#os.environ[\"OPENAI_API_KEY\"] = ''\n",
    "\n",
    "client = OpenAI()"
   ]
  },
  {
   "cell_type": "markdown",
   "id": "3406fd53",
   "metadata": {
    "id": "3406fd53"
   },
   "source": [
    "https://cookbook.openai.com/examples/deterministic_outputs_with_the_seed_parameter\n",
    "\n",
    "The Chat Completions and Completions APIs are non-deterministic by default (which means model outputs may differ from request to request), but now offer some control towards deterministic outputs using a few model level controls.\n",
    "\n",
    "To receive mostly deterministic outputs across API calls:\n",
    "\n",
    "- Set the seed parameter to any integer of your choice, but use the same value across requests. For example, 12345.\n",
    "- Set all other parameters (prompt, temperature, top_p, etc.) to the same values across requests.\n",
    "\n",
    "In the response, check the system_fingerprint field. The system fingerprint is an identifier for the current combination of model weights, infrastructure, and other configuration options used by OpenAI servers to generate the completion. It changes whenever you change request parameters, or OpenAI updates numerical configuration of the infrastructure serving our models (which may happen a few times a year)."
   ]
  },
  {
   "cell_type": "code",
   "execution_count": 5,
   "id": "7e757ca2",
   "metadata": {
    "id": "7e757ca2"
   },
   "outputs": [],
   "source": [
    " async def get_chat_response(model_id, user_message, seed = None):\n",
    "    try:\n",
    "        response = client.chat.completions.create(\n",
    "            model = model_id,\n",
    "            messages = [\n",
    "                {\"role\": \"system\", \"content\": \"You are a helpful assistant.\"},\n",
    "                {\"role\": \"user\", \"content\": user_message}\n",
    "            ],\n",
    "            temperature = 0.1,\n",
    "            seed = seed,\n",
    "            max_tokens = 256\n",
    "        )\n",
    "\n",
    "        response_content = response.choices[0].message.content\n",
    "        system_fingerprint = response.system_fingerprint\n",
    "        prompt_tokens = response.usage.prompt_tokens\n",
    "        completion_tokens = (\n",
    "            response.usage.total_tokens - response.usage.prompt_tokens\n",
    "        )\n",
    "\n",
    "        table = f\"\"\"\n",
    "        <table>\n",
    "        <tr><th>Response</th><td>{response_content}</td></tr>\n",
    "        <tr><th>System Fingerprint</th><td>{system_fingerprint}</td></tr>\n",
    "        <tr><th>Number of prompt tokens</th><td>{prompt_tokens}</td></tr>\n",
    "        <tr><th>Number of completion tokens</th><td>{completion_tokens}</td></tr>\n",
    "        </table>\n",
    "        \"\"\"\n",
    "        display(HTML(table))\n",
    "\n",
    "        return response_content\n",
    "    except Exception as e:\n",
    "        print(f\"An error occurred: {e}\")\n",
    "        return None"
   ]
  },
  {
   "cell_type": "code",
   "execution_count": 6,
   "id": "4a63496c",
   "metadata": {
    "id": "4a63496c"
   },
   "outputs": [],
   "source": [
    "def compare_responses(previous_response, response):\n",
    "\n",
    "    d = difflib.Differ()\n",
    "\n",
    "    diff = d.compare(previous_response.split(\".\"), response.split(\".\"))\n",
    "\n",
    "    diff_exists = False\n",
    "\n",
    "    diff_table = \"<table>\"\n",
    "    for line in diff:\n",
    "        if line.startswith(\"- \"):\n",
    "            diff_table += f\"<tr style='color: red;'><td>{line}</td></tr>\"\n",
    "            diff_exists = True\n",
    "        elif line.startswith(\"+ \"):\n",
    "            diff_table += f\"<tr style='color: green;'><td>{line}</td></tr>\"\n",
    "            diff_exists = True\n",
    "        else:\n",
    "            diff_table += f\"<tr><td>{line}</td></tr>\"\n",
    "\n",
    "    diff_table += \"</table>\"\n",
    "\n",
    "    if diff_exists:\n",
    "        display(HTML(diff_table))\n",
    "    else:\n",
    "        print(\"No differences found.\")"
   ]
  },
  {
   "cell_type": "markdown",
   "id": "c4e6fc37",
   "metadata": {
    "id": "c4e6fc37"
   },
   "source": [
    "### Understanding ROUGE scores"
   ]
  },
  {
   "cell_type": "code",
   "execution_count": 8,
   "id": "1dc93f37",
   "metadata": {
    "id": "1dc93f37",
    "outputId": "a4aff53e-eab3-4355-93c1-5cde9e8af8b3"
   },
   "outputs": [
    {
     "data": {
      "text/plain": [
       "<rouge_score.rouge_scorer.RougeScorer at 0x7fa37231e6b0>"
      ]
     },
     "execution_count": 8,
     "metadata": {},
     "output_type": "execute_result"
    }
   ],
   "source": [
    "# Initialize the ROUGE scorer\n",
    "scorer = rouge_scorer.RougeScorer(['rouge1', 'rouge2', 'rougeL'], use_stemmer = True)\n",
    "\n",
    "scorer"
   ]
  },
  {
   "cell_type": "code",
   "execution_count": 9,
   "id": "a660db1c",
   "metadata": {
    "id": "a660db1c",
    "outputId": "455d2c85-9275-41f7-c249-503c04368a8b"
   },
   "outputs": [
    {
     "name": "stdout",
     "output_type": "stream",
     "text": [
      "rouge1:\n",
      "  Precision: 1.0\n",
      "  Recall: 1.0\n",
      "  F1 Score: 1.0\n",
      "rouge2:\n",
      "  Precision: 1.0\n",
      "  Recall: 1.0\n",
      "  F1 Score: 1.0\n",
      "rougeL:\n",
      "  Precision: 1.0\n",
      "  Recall: 1.0\n",
      "  F1 Score: 1.0\n"
     ]
    }
   ],
   "source": [
    "# Define the reference text and predicted text\n",
    "reference_text = \"The herd of bisons wandered around near the river\"\n",
    "predicted_text = \"The herd of bisons wandered around near the river\"\n",
    "\n",
    "# Compute ROUGE scores\n",
    "rouge_scores = scorer.score(reference_text, predicted_text)\n",
    "\n",
    "# Print ROUGE scores\n",
    "for metric, scores in rouge_scores.items():\n",
    "    print(f'{metric}:')\n",
    "    print(f'  Precision: {scores.precision}')\n",
    "    print(f'  Recall: {scores.recall}')\n",
    "    print(f'  F1 Score: {scores.fmeasure}')"
   ]
  },
  {
   "cell_type": "code",
   "execution_count": 11,
   "id": "9af864d7",
   "metadata": {
    "id": "9af864d7",
    "outputId": "b912dac7-47dc-4bd2-876f-6172e4aa2c91"
   },
   "outputs": [
    {
     "name": "stdout",
     "output_type": "stream",
     "text": [
      "rouge1:\n",
      "  Precision: 0.6923076923076923\n",
      "  Recall: 1.0\n",
      "  F1 Score: 0.8181818181818181\n",
      "rouge2:\n",
      "  Precision: 0.6666666666666666\n",
      "  Recall: 1.0\n",
      "  F1 Score: 0.8\n",
      "rougeL:\n",
      "  Precision: 0.6923076923076923\n",
      "  Recall: 1.0\n",
      "  F1 Score: 0.8181818181818181\n"
     ]
    }
   ],
   "source": [
    "# Define the reference text and predicted text\n",
    "reference_text = \"The herd of bisons wandered around near the river\"\n",
    "predicted_text = \"The herd of bisons wandered around near the river, trampling on the grass\"\n",
    "\n",
    "# Compute ROUGE scores\n",
    "rouge_scores = scorer.score(reference_text, predicted_text)\n",
    "\n",
    "# Print ROUGE scores\n",
    "for metric, scores in rouge_scores.items():\n",
    "    print(f'{metric}:')\n",
    "    print(f'  Precision: {scores.precision}')\n",
    "    print(f'  Recall: {scores.recall}')\n",
    "    print(f'  F1 Score: {scores.fmeasure}')"
   ]
  },
  {
   "cell_type": "code",
   "execution_count": 13,
   "id": "0e8e2e88",
   "metadata": {
    "id": "0e8e2e88",
    "outputId": "a37d6199-83ac-4d9b-ca92-a4ae6ceeb0ad"
   },
   "outputs": [
    {
     "name": "stdout",
     "output_type": "stream",
     "text": [
      "rouge1:\n",
      "  Precision: 0.125\n",
      "  Recall: 0.1111111111111111\n",
      "  F1 Score: 0.11764705882352941\n",
      "rouge2:\n",
      "  Precision: 0.0\n",
      "  Recall: 0.0\n",
      "  F1 Score: 0.0\n",
      "rougeL:\n",
      "  Precision: 0.125\n",
      "  Recall: 0.1111111111111111\n",
      "  F1 Score: 0.11764705882352941\n"
     ]
    }
   ],
   "source": [
    "# Define the reference text and predicted text\n",
    "reference_text = \"The herd of bisons wandered around near the river\"\n",
    "predicted_text = \"The monkeys were swinging from tree to tree\"\n",
    "\n",
    "# Compute ROUGE scores\n",
    "rouge_scores = scorer.score(reference_text, predicted_text)\n",
    "\n",
    "# Print ROUGE scores\n",
    "for metric, scores in rouge_scores.items():\n",
    "    print(f'{metric}:')\n",
    "    print(f'  Precision: {scores.precision}')\n",
    "    print(f'  Recall: {scores.recall}')\n",
    "    print(f'  F1 Score: {scores.fmeasure}')"
   ]
  },
  {
   "cell_type": "markdown",
   "id": "ba05ae04",
   "metadata": {
    "id": "ba05ae04"
   },
   "source": [
    "https://platform.openai.com/docs/models/models\n",
    "\n",
    "Please note that when you run these you may need to pick a recent model from the list on this page. You don't get a fingerprint if you just use gpt-3.5-turbo. This is likely because that is supposed to pick up the latest model.\n",
    "\n",
    "##### seed\n",
    "If specified, our system will make a best effort to sample deterministically, such that repeated requests with the same seed and parameters should return the same result. Determinism is not guaranteed, and you should refer to the system_fingerprint response parameter to monitor changes in the backend.\n",
    "\n",
    "##### system_fingerprint\n",
    "This fingerprint represents the backend configuration that the model runs with. It can be used in conjunction with the seed request parameter to understand when backend changes have been made that might impact determinism.This is the indicator on whether users should expect \"almost always the same result\".\n",
    "\n",
    "Go to this page to choose a model:\n",
    "\n",
    "https://platform.openai.com/docs/models"
   ]
  },
  {
   "cell_type": "markdown",
   "id": "68b1a9c5",
   "metadata": {
    "id": "68b1a9c5"
   },
   "source": [
    "## No seed provided, the responses will be different"
   ]
  },
  {
   "cell_type": "code",
   "execution_count": 14,
   "id": "f98dc62d",
   "metadata": {
    "id": "f98dc62d",
    "outputId": "43961e96-e90e-48f2-dca6-e925796cf8a0"
   },
   "outputs": [
    {
     "data": {
      "text/html": [
       "\n",
       "       <table>\n",
       "       <tr><th>Response</th><td>**The Rise of Influencers on Social Media: A Digital Revolution**\n",
       "\n",
       "In the past decade, the landscape of marketing and personal branding has undergone a seismic shift, largely driven by the rise of social media influencers. These digital trendsetters have redefined how brands connect with consumers, how individuals express themselves, and how communities form and interact online. The phenomenon of influencers is not just a fleeting trend but a fundamental change in the way we communicate and consume content.\n",
       "\n",
       "### The Genesis of Influencers\n",
       "\n",
       "The concept of influencers is not entirely new. Celebrities and public figures have long held sway over public opinion and consumer behavior. However, the advent of social media platforms like Instagram, YouTube, TikTok, and Twitter has democratized influence, allowing ordinary individuals to amass large followings and wield significant power.\n",
       "\n",
       "The early 2010s saw the emergence of the first wave of influencers, primarily on platforms like YouTube and Instagram. These pioneers, often starting as hobbyists, shared content about their passions—be it beauty, fashion, fitness, travel, or gaming. Their authenticity and relatability resonated with audiences, setting them apart from traditional celebrities.\n",
       "\n",
       "### The Power of Authenticity\n",
       "\n",
       "One of the key drivers behind the rise of influencers is authenticity. Unlike traditional advertisements,</td></tr>\n",
       "       <tr><th>System Fingerprint</th><td>fp_3e7d703517</td></tr>\n",
       "       <tr><th>Number of prompt tokens</th><td>32</td></tr>\n",
       "       <tr><th>Number of completion tokens</th><td>256</td></tr>\n",
       "       </table>\n",
       "       "
      ],
      "text/plain": [
       "<IPython.core.display.HTML object>"
      ]
     },
     "metadata": {},
     "output_type": "display_data"
    },
    {
     "data": {
      "text/html": [
       "\n",
       "       <table>\n",
       "       <tr><th>Response</th><td>**The Rise of Influencers on Social Media: A Digital Revolution**\n",
       "\n",
       "In the past decade, the landscape of marketing and personal branding has undergone a seismic shift, driven largely by the rise of social media influencers. These individuals, who have amassed significant followings on platforms like Instagram, YouTube, TikTok, and Twitter, wield considerable power in shaping consumer behavior and cultural trends. The phenomenon of influencers is not just a fleeting trend but a fundamental change in how brands connect with audiences and how individuals express themselves in the digital age.\n",
       "\n",
       "**The Genesis of Influencers**\n",
       "\n",
       "The concept of influencers is not entirely new. Celebrities and public figures have long been used to endorse products and sway public opinion. However, the advent of social media democratized influence, allowing everyday individuals to build personal brands and reach global audiences. The early days of blogging and platforms like MySpace and Facebook set the stage, but it was the visual-centric nature of Instagram and the video capabilities of YouTube that truly catalyzed the influencer movement.\n",
       "\n",
       "**Defining an Influencer**\n",
       "\n",
       "An influencer is typically defined as someone who has the power to affect the purchasing decisions of others because of their authority, knowledge, position, or relationship with their audience. They often specialize in niches such as fashion, beauty, fitness,</td></tr>\n",
       "       <tr><th>System Fingerprint</th><td>fp_3e7d703517</td></tr>\n",
       "       <tr><th>Number of prompt tokens</th><td>32</td></tr>\n",
       "       <tr><th>Number of completion tokens</th><td>256</td></tr>\n",
       "       </table>\n",
       "       "
      ],
      "text/plain": [
       "<IPython.core.display.HTML object>"
      ]
     },
     "metadata": {},
     "output_type": "display_data"
    }
   ],
   "source": [
    "model_id = \"gpt-4o-2024-05-13\"\n",
    "\n",
    "user_message = \"\"\"\n",
    "    Please write an article on the rise of influencers on social media\n",
    "\"\"\"\n",
    "\n",
    "previous_response = await get_chat_response(\n",
    "    model_id=model_id,\n",
    "    user_message=user_message\n",
    ")\n",
    "\n",
    "response = await get_chat_response(\n",
    "    model_id=model_id,\n",
    "    user_message=user_message\n",
    ")"
   ]
  },
  {
   "cell_type": "code",
   "execution_count": 15,
   "id": "8b9de1f9",
   "metadata": {
    "id": "8b9de1f9",
    "outputId": "a636fefb-f6e7-49d7-e841-4ee83cbdc22e"
   },
   "outputs": [
    {
     "data": {
      "text/html": [
       "<table><tr style='color: red;'><td>- **The Rise of Influencers on Social Media: A Digital Revolution**\n",
       "\n",
       "In the past decade, the landscape of marketing and personal branding has undergone a seismic shift, largely driven by the rise of social media influencers</td></tr><tr><td>?                                                                  \n",
       "\n",
       "                                                                                                           -------\n",
       "</td></tr><tr style='color: green;'><td>+ **The Rise of Influencers on Social Media: A Digital Revolution**\n",
       "\n",
       "In the past decade, the landscape of marketing and personal branding has undergone a seismic shift, driven largely by the rise of social media influencers</td></tr><tr><td>?                                                                  \n",
       "\n",
       "                                                                                                    +++++++\n",
       "</td></tr><tr style='color: red;'><td>-  These digital trendsetters have redefined how brands connect with consumers, how individuals express themselves, and how communities form and interact online</td></tr><tr style='color: red;'><td>-  The phenomenon of influencers is not just a fleeting trend but a fundamental change in the way we communicate and consume content</td></tr><tr style='color: green;'><td>+  These individuals, who have amassed significant followings on platforms like Instagram, YouTube, TikTok, and Twitter, wield considerable power in shaping consumer behavior and cultural trends</td></tr><tr style='color: green;'><td>+  The phenomenon of influencers is not just a fleeting trend but a fundamental change in how brands connect with audiences and how individuals express themselves in the digital age</td></tr><tr style='color: red;'><td>- \n",
       "\n",
       "### The Genesis of Influencers\n",
       "\n",
       "The concept of influencers is not entirely new</td></tr><tr><td>? \n",
       "\n",
       "^^^^\n",
       "</td></tr><tr style='color: green;'><td>+ \n",
       "\n",
       "**The Genesis of Influencers**\n",
       "\n",
       "The concept of influencers is not entirely new</td></tr><tr><td>? \n",
       "\n",
       "^^                          ++\n",
       "</td></tr><tr style='color: green;'><td>+  Celebrities and public figures have long been used to endorse products and sway public opinion</td></tr><tr style='color: green;'><td>+  However, the advent of social media democratized influence, allowing everyday individuals to build personal brands and reach global audiences</td></tr><tr style='color: green;'><td>+  The early days of blogging and platforms like MySpace and Facebook set the stage, but it was the visual-centric nature of Instagram and the video capabilities of YouTube that truly catalyzed the influencer movement</td></tr><tr style='color: green;'><td>+ \n",
       "\n",
       "**Defining an Influencer**\n",
       "\n",
       "An influencer is typically defined as someone who has the power to affect the purchasing decisions of others because of their authority, knowledge, position, or relationship with their audience</td></tr><tr style='color: green;'><td>+  They often specialize in niches such as fashion, beauty, fitness,</td></tr><tr style='color: red;'><td>-  Celebrities and public figures have long held sway over public opinion and consumer behavior</td></tr><tr style='color: red;'><td>-  However, the advent of social media platforms like Instagram, YouTube, TikTok, and Twitter has democratized influence, allowing ordinary individuals to amass large followings and wield significant power</td></tr><tr style='color: red;'><td>- \n",
       "\n",
       "The early 2010s saw the emergence of the first wave of influencers, primarily on platforms like YouTube and Instagram</td></tr><tr style='color: red;'><td>-  These pioneers, often starting as hobbyists, shared content about their passions—be it beauty, fashion, fitness, travel, or gaming</td></tr><tr style='color: red;'><td>-  Their authenticity and relatability resonated with audiences, setting them apart from traditional celebrities</td></tr><tr style='color: red;'><td>- \n",
       "\n",
       "### The Power of Authenticity\n",
       "\n",
       "One of the key drivers behind the rise of influencers is authenticity</td></tr><tr style='color: red;'><td>-  Unlike traditional advertisements,</td></tr></table>"
      ],
      "text/plain": [
       "<IPython.core.display.HTML object>"
      ]
     },
     "metadata": {},
     "output_type": "display_data"
    }
   ],
   "source": [
    "compare_responses(previous_response, response)"
   ]
  },
  {
   "cell_type": "code",
   "execution_count": 16,
   "id": "4915d3da",
   "metadata": {
    "id": "4915d3da",
    "outputId": "0d5c47e5-22c7-4c18-e610-80d7bfb5cde9"
   },
   "outputs": [
    {
     "name": "stdout",
     "output_type": "stream",
     "text": [
      "rouge1:\n",
      "  Precision: 0.7028301886792453\n",
      "  Recall: 0.7412935323383084\n",
      "  F1 Score: 0.721549636803874\n",
      "rouge2:\n",
      "  Precision: 0.44075829383886256\n",
      "  Recall: 0.465\n",
      "  F1 Score: 0.4525547445255474\n",
      "rougeL:\n",
      "  Precision: 0.4716981132075472\n",
      "  Recall: 0.4975124378109453\n",
      "  F1 Score: 0.48426150121065376\n"
     ]
    }
   ],
   "source": [
    "# Compute ROUGE scores\n",
    "rouge_scores = scorer.score(previous_response, response)\n",
    "\n",
    "# Print ROUGE scores\n",
    "for metric, scores in rouge_scores.items():\n",
    "    print(f'{metric}:')\n",
    "    print(f'  Precision: {scores.precision}')\n",
    "    print(f'  Recall: {scores.recall}')\n",
    "    print(f'  F1 Score: {scores.fmeasure}')"
   ]
  },
  {
   "cell_type": "markdown",
   "id": "153fe3bd",
   "metadata": {
    "id": "153fe3bd"
   },
   "source": [
    "## Same model, same seed\n",
    "\n",
    "Note that the system_fingerprint returned is the same"
   ]
  },
  {
   "cell_type": "code",
   "execution_count": 17,
   "id": "458b7251",
   "metadata": {
    "id": "458b7251",
    "outputId": "cb311566-83b3-44be-b437-6c2b9a50952a"
   },
   "outputs": [
    {
     "data": {
      "text/html": [
       "\n",
       "       <table>\n",
       "       <tr><th>Response</th><td>**The Rise of Influencers on Social Media: A Digital Revolution**\n",
       "\n",
       "In the past decade, the landscape of marketing and personal branding has undergone a seismic shift, driven by the rise of social media influencers. These digital personalities have transformed the way brands connect with consumers, creating a new paradigm in advertising and content creation. From fashion and beauty to technology and travel, influencers have become pivotal players in virtually every industry. This article delves into the factors behind the rise of influencers, their impact on social media, and the future of this dynamic phenomenon.\n",
       "\n",
       "### The Genesis of Influencers\n",
       "\n",
       "The concept of influencers is not entirely new. Celebrities and public figures have long been used to endorse products and services. However, the advent of social media platforms like Instagram, YouTube, TikTok, and Twitter has democratized influence, allowing ordinary individuals to amass large followings and wield significant sway over their audiences.\n",
       "\n",
       "The rise of influencers can be traced back to the early 2010s, with the proliferation of platforms that enabled users to share content easily and engage with followers. Instagram, launched in 2010, quickly became a hub for visual storytelling, while YouTube, founded in 2005, provided a platform for video content creators to reach global audiences. These platforms, along</td></tr>\n",
       "       <tr><th>System Fingerprint</th><td>fp_3e7d703517</td></tr>\n",
       "       <tr><th>Number of prompt tokens</th><td>32</td></tr>\n",
       "       <tr><th>Number of completion tokens</th><td>256</td></tr>\n",
       "       </table>\n",
       "       "
      ],
      "text/plain": [
       "<IPython.core.display.HTML object>"
      ]
     },
     "metadata": {},
     "output_type": "display_data"
    },
    {
     "data": {
      "text/html": [
       "\n",
       "       <table>\n",
       "       <tr><th>Response</th><td>**The Rise of Influencers on Social Media: A Digital Revolution**\n",
       "\n",
       "In the past decade, the landscape of marketing and personal branding has undergone a seismic shift, driven by the rise of social media influencers. These digital personalities have transformed the way brands connect with consumers, creating a new paradigm in advertising and content creation. From fashion and beauty to technology and fitness, influencers have become pivotal players in virtually every industry. This article delves into the factors behind the rise of influencers, their impact on marketing, and the future of this dynamic phenomenon.\n",
       "\n",
       "### The Genesis of Influencers\n",
       "\n",
       "The concept of influencers is not entirely new. Celebrities and public figures have long been used to endorse products and services. However, the advent of social media platforms like Instagram, YouTube, TikTok, and Twitter has democratized influence, allowing ordinary individuals to amass large followings and wield significant sway over their audiences.\n",
       "\n",
       "The rise of influencers can be traced back to the early 2010s, with the proliferation of platforms that enabled users to share content easily and engage with followers. Instagram, launched in 2010, quickly became a hub for visual storytelling, while YouTube, founded in 2005, provided a platform for video content creators to reach global audiences. These platforms, along with</td></tr>\n",
       "       <tr><th>System Fingerprint</th><td>fp_3e7d703517</td></tr>\n",
       "       <tr><th>Number of prompt tokens</th><td>32</td></tr>\n",
       "       <tr><th>Number of completion tokens</th><td>256</td></tr>\n",
       "       </table>\n",
       "       "
      ],
      "text/plain": [
       "<IPython.core.display.HTML object>"
      ]
     },
     "metadata": {},
     "output_type": "display_data"
    }
   ],
   "source": [
    "user_message = \"\"\"\n",
    "    Please write an article on the rise of influencers on social media\n",
    "\"\"\"\n",
    "\n",
    "previous_response = await get_chat_response(\n",
    "    model_id=model_id,\n",
    "    user_message=user_message,\n",
    "    seed=10001\n",
    ")\n",
    "\n",
    "response = await get_chat_response(\n",
    "    model_id=model_id,\n",
    "    user_message=user_message,\n",
    "    seed=10001\n",
    ")"
   ]
  },
  {
   "cell_type": "markdown",
   "id": "6360613e",
   "metadata": {
    "id": "6360613e"
   },
   "source": [
    "### The responses below should be the same or almost the same"
   ]
  },
  {
   "cell_type": "code",
   "execution_count": 18,
   "id": "a90e4ff1",
   "metadata": {
    "id": "a90e4ff1",
    "outputId": "d612c2e1-d72d-48d8-e652-0e823e5470dc"
   },
   "outputs": [
    {
     "data": {
      "text/html": [
       "<table><tr><td>  **The Rise of Influencers on Social Media: A Digital Revolution**\n",
       "\n",
       "In the past decade, the landscape of marketing and personal branding has undergone a seismic shift, driven by the rise of social media influencers</td></tr><tr><td>   These digital personalities have transformed the way brands connect with consumers, creating a new paradigm in advertising and content creation</td></tr><tr style='color: red;'><td>-  From fashion and beauty to technology and travel, influencers have become pivotal players in virtually every industry</td></tr><tr><td>?                                             ^^^ ^\n",
       "</td></tr><tr style='color: green;'><td>+  From fashion and beauty to technology and fitness, influencers have become pivotal players in virtually every industry</td></tr><tr><td>?                                            ++ ^ ^^\n",
       "</td></tr><tr style='color: red;'><td>-  This article delves into the factors behind the rise of influencers, their impact on social media, and the future of this dynamic phenomenon</td></tr><tr><td>?                                                                                       ^^^ ^^^^^^^^\n",
       "</td></tr><tr style='color: green;'><td>+  This article delves into the factors behind the rise of influencers, their impact on marketing, and the future of this dynamic phenomenon</td></tr><tr><td>?                                                                                       ^^^^^^ ^^\n",
       "</td></tr><tr><td>  \n",
       "\n",
       "### The Genesis of Influencers\n",
       "\n",
       "The concept of influencers is not entirely new</td></tr><tr><td>   Celebrities and public figures have long been used to endorse products and services</td></tr><tr><td>   However, the advent of social media platforms like Instagram, YouTube, TikTok, and Twitter has democratized influence, allowing ordinary individuals to amass large followings and wield significant sway over their audiences</td></tr><tr><td>  \n",
       "\n",
       "The rise of influencers can be traced back to the early 2010s, with the proliferation of platforms that enabled users to share content easily and engage with followers</td></tr><tr><td>   Instagram, launched in 2010, quickly became a hub for visual storytelling, while YouTube, founded in 2005, provided a platform for video content creators to reach global audiences</td></tr><tr style='color: red;'><td>-  These platforms, along</td></tr><tr style='color: green;'><td>+  These platforms, along with</td></tr><tr><td>?                        +++++\n",
       "</td></tr></table>"
      ],
      "text/plain": [
       "<IPython.core.display.HTML object>"
      ]
     },
     "metadata": {},
     "output_type": "display_data"
    }
   ],
   "source": [
    "compare_responses(previous_response, response)"
   ]
  },
  {
   "cell_type": "code",
   "execution_count": 19,
   "id": "9e46b150",
   "metadata": {
    "id": "9e46b150",
    "outputId": "7316b1fc-8a6a-4f83-90c5-241929d7c490"
   },
   "outputs": [
    {
     "name": "stdout",
     "output_type": "stream",
     "text": [
      "rouge1:\n",
      "  Precision: 0.9855072463768116\n",
      "  Recall: 0.9855072463768116\n",
      "  F1 Score: 0.9855072463768116\n",
      "rouge2:\n",
      "  Precision: 0.9757281553398058\n",
      "  Recall: 0.9757281553398058\n",
      "  F1 Score: 0.9757281553398058\n",
      "rougeL:\n",
      "  Precision: 0.9855072463768116\n",
      "  Recall: 0.9855072463768116\n",
      "  F1 Score: 0.9855072463768116\n"
     ]
    }
   ],
   "source": [
    "# Compute ROUGE scores\n",
    "rouge_scores = scorer.score(previous_response, response)\n",
    "\n",
    "# Print ROUGE scores\n",
    "for metric, scores in rouge_scores.items():\n",
    "    print(f'{metric}:')\n",
    "    print(f'  Precision: {scores.precision}')\n",
    "    print(f'  Recall: {scores.recall}')\n",
    "    print(f'  F1 Score: {scores.fmeasure}')"
   ]
  },
  {
   "cell_type": "code",
   "execution_count": 20,
   "id": "cc4e45a9",
   "metadata": {
    "id": "cc4e45a9",
    "outputId": "4091eca8-38cb-45e7-d904-da38087a4d7c"
   },
   "outputs": [
    {
     "data": {
      "text/html": [
       "\n",
       "       <table>\n",
       "       <tr><th>Response</th><td>**The Iconic Hermes Birkin Bag: A Symbol of Luxury and Craftsmanship**\n",
       "\n",
       "In the world of high fashion, few items command as much reverence and admiration as the Hermes Birkin bag. Synonymous with luxury, exclusivity, and impeccable craftsmanship, the Birkin bag has transcended its status as a mere accessory to become a cultural icon. This article delves into the history, craftsmanship, and enduring allure of the Hermes Birkin bag.\n",
       "\n",
       "### A Storied Beginning\n",
       "\n",
       "The Birkin bag's origin story is as captivating as the bag itself. In 1983, British actress and singer Jane Birkin found herself seated next to Hermes CEO Jean-Louis Dumas on a flight from Paris to London. As the story goes, Birkin's straw bag spilled its contents, prompting a conversation about the ideal handbag. Inspired by Birkin's needs and suggestions, Dumas sketched a design on an airplane sick bag, laying the foundation for what would become one of the most coveted handbags in the world.\n",
       "\n",
       "### Craftsmanship: The Heart of the Birkin\n",
       "\n",
       "What sets the Hermes Birkin bag apart from other luxury handbags is the unparalleled craftsmanship that goes into its creation. Each Birkin bag is handmade by a single artisan in Hermes' ateliers in France, a process that</td></tr>\n",
       "       <tr><th>System Fingerprint</th><td>fp_3e7d703517</td></tr>\n",
       "       <tr><th>Number of prompt tokens</th><td>30</td></tr>\n",
       "       <tr><th>Number of completion tokens</th><td>256</td></tr>\n",
       "       </table>\n",
       "       "
      ],
      "text/plain": [
       "<IPython.core.display.HTML object>"
      ]
     },
     "metadata": {},
     "output_type": "display_data"
    },
    {
     "data": {
      "text/html": [
       "\n",
       "       <table>\n",
       "       <tr><th>Response</th><td>**The Iconic Hermes Birkin Bag: A Symbol of Luxury and Craftsmanship**\n",
       "\n",
       "In the world of high fashion, few items command as much reverence and admiration as the Hermes Birkin bag. Synonymous with luxury, exclusivity, and impeccable craftsmanship, the Birkin bag has transcended its status as a mere accessory to become a cultural icon. This article delves into the history, craftsmanship, and enduring allure of the Hermes Birkin bag.\n",
       "\n",
       "### A Storied Beginning\n",
       "\n",
       "The Birkin bag's origin story is as captivating as the bag itself. In 1983, British actress and singer Jane Birkin found herself seated next to Jean-Louis Dumas, the then-chief executive of Hermes, on a flight from Paris to London. As the story goes, Birkin's straw bag tipped over, spilling its contents. This led to a conversation about the ideal handbag, one that combined style with practicality. Inspired by this encounter, Dumas designed a bag that would meet Birkin's needs, and thus, the Birkin bag was born.\n",
       "\n",
       "### Craftsmanship: A Labor of Love\n",
       "\n",
       "What sets the Hermes Birkin bag apart from other luxury handbags is the unparalleled craftsmanship that goes into its creation. Each Birkin bag is handmade by a single artisan in Hermes' ateliers</td></tr>\n",
       "       <tr><th>System Fingerprint</th><td>fp_3e7d703517</td></tr>\n",
       "       <tr><th>Number of prompt tokens</th><td>30</td></tr>\n",
       "       <tr><th>Number of completion tokens</th><td>256</td></tr>\n",
       "       </table>\n",
       "       "
      ],
      "text/plain": [
       "<IPython.core.display.HTML object>"
      ]
     },
     "metadata": {},
     "output_type": "display_data"
    }
   ],
   "source": [
    "user_message = \"\"\"\n",
    "    Please write an article on the Hermes Birkin bag\n",
    "\"\"\"\n",
    "\n",
    "previous_response = await get_chat_response(\n",
    "    model_id=model_id,\n",
    "    user_message=user_message,\n",
    "    seed=45678\n",
    ")\n",
    "\n",
    "response = await get_chat_response(\n",
    "    model_id=model_id,\n",
    "    user_message=user_message,\n",
    "    seed=45678\n",
    ")"
   ]
  },
  {
   "cell_type": "markdown",
   "id": "19e89aa9",
   "metadata": {
    "id": "19e89aa9"
   },
   "source": [
    "### The responses should be the same or almost the same"
   ]
  },
  {
   "cell_type": "code",
   "execution_count": 21,
   "id": "780c7759",
   "metadata": {
    "id": "780c7759",
    "outputId": "39efdc3b-0168-4fbd-9af2-ef6884b095f6"
   },
   "outputs": [
    {
     "data": {
      "text/html": [
       "<table><tr><td>  **The Iconic Hermes Birkin Bag: A Symbol of Luxury and Craftsmanship**\n",
       "\n",
       "In the world of high fashion, few items command as much reverence and admiration as the Hermes Birkin bag</td></tr><tr><td>   Synonymous with luxury, exclusivity, and impeccable craftsmanship, the Birkin bag has transcended its status as a mere accessory to become a cultural icon</td></tr><tr><td>   This article delves into the history, craftsmanship, and enduring allure of the Hermes Birkin bag</td></tr><tr><td>  \n",
       "\n",
       "### A Storied Beginning\n",
       "\n",
       "The Birkin bag's origin story is as captivating as the bag itself</td></tr><tr style='color: red;'><td>-  In 1983, British actress and singer Jane Birkin found herself seated next to Hermes CEO Jean-Louis Dumas on a flight from Paris to London</td></tr><tr><td>?                                                                               -----------\n",
       "</td></tr><tr style='color: green;'><td>+  In 1983, British actress and singer Jane Birkin found herself seated next to Jean-Louis Dumas, the then-chief executive of Hermes, on a flight from Paris to London</td></tr><tr><td>?                                                                                               +++++++++++++++++++++++++++++++++++++\n",
       "</td></tr><tr style='color: red;'><td>-  As the story goes, Birkin's straw bag spilled its contents, prompting a conversation about the ideal handbag</td></tr><tr style='color: red;'><td>-  Inspired by Birkin's needs and suggestions, Dumas sketched a design on an airplane sick bag, laying the foundation for what would become one of the most coveted handbags in the world</td></tr><tr style='color: green;'><td>+  As the story goes, Birkin's straw bag tipped over, spilling its contents</td></tr><tr style='color: green;'><td>+  This led to a conversation about the ideal handbag, one that combined style with practicality</td></tr><tr style='color: green;'><td>+  Inspired by this encounter, Dumas designed a bag that would meet Birkin's needs, and thus, the Birkin bag was born</td></tr><tr style='color: red;'><td>- \n",
       "\n",
       "### Craftsmanship: The Heart of the Birkin\n",
       "\n",
       "What sets the Hermes Birkin bag apart from other luxury handbags is the unparalleled craftsmanship that goes into its creation</td></tr><tr><td>? \n",
       "\n",
       "                   ^^^ ^^  -    ^^ -------\n",
       "</td></tr><tr style='color: green;'><td>+ \n",
       "\n",
       "### Craftsmanship: A Labor of Love\n",
       "\n",
       "What sets the Hermes Birkin bag apart from other luxury handbags is the unparalleled craftsmanship that goes into its creation</td></tr><tr><td>? \n",
       "\n",
       "                   ^ ^ ++     ^^^\n",
       "</td></tr><tr style='color: red;'><td>-  Each Birkin bag is handmade by a single artisan in Hermes' ateliers in France, a process that</td></tr><tr><td>?                                                                     --------------------------\n",
       "</td></tr><tr style='color: green;'><td>+  Each Birkin bag is handmade by a single artisan in Hermes' ateliers</td></tr></table>"
      ],
      "text/plain": [
       "<IPython.core.display.HTML object>"
      ]
     },
     "metadata": {},
     "output_type": "display_data"
    }
   ],
   "source": [
    "compare_responses(previous_response, response)"
   ]
  },
  {
   "cell_type": "code",
   "execution_count": 22,
   "id": "150eaca4",
   "metadata": {
    "id": "150eaca4",
    "outputId": "e9c6d828-bf80-4156-bed8-f04757c827c4"
   },
   "outputs": [
    {
     "name": "stdout",
     "output_type": "stream",
     "text": [
      "rouge1:\n",
      "  Precision: 0.8894472361809045\n",
      "  Recall: 0.8762376237623762\n",
      "  F1 Score: 0.8827930174563591\n",
      "rouge2:\n",
      "  Precision: 0.7828282828282829\n",
      "  Recall: 0.7711442786069652\n",
      "  F1 Score: 0.7769423558897244\n",
      "rougeL:\n",
      "  Precision: 0.8291457286432161\n",
      "  Recall: 0.8168316831683168\n",
      "  F1 Score: 0.8229426433915212\n"
     ]
    }
   ],
   "source": [
    "# Compute ROUGE scores\n",
    "rouge_scores = scorer.score(previous_response, response)\n",
    "\n",
    "# Print ROUGE scores\n",
    "for metric, scores in rouge_scores.items():\n",
    "    print(f'{metric}:')\n",
    "    print(f'  Precision: {scores.precision}')\n",
    "    print(f'  Recall: {scores.recall}')\n",
    "    print(f'  F1 Score: {scores.fmeasure}')"
   ]
  },
  {
   "cell_type": "markdown",
   "id": "32b02066",
   "metadata": {
    "id": "32b02066"
   },
   "source": [
    "### Same model different seeds should produce different responses"
   ]
  },
  {
   "cell_type": "code",
   "execution_count": 26,
   "id": "bb21b834",
   "metadata": {
    "id": "bb21b834",
    "outputId": "8092a9b9-40b0-4c8f-cc12-8016b2445192"
   },
   "outputs": [
    {
     "data": {
      "text/html": [
       "\n",
       "       <table>\n",
       "       <tr><th>Response</th><td># The Iconic Hermes Birkin Bag: A Symbol of Luxury and Craftsmanship\n",
       "\n",
       "In the world of high fashion, few items command as much reverence and admiration as the Hermes Birkin bag. Synonymous with luxury, exclusivity, and impeccable craftsmanship, the Birkin bag has transcended its status as a mere accessory to become a cultural icon. This article delves into the history, craftsmanship, and enduring allure of the Hermes Birkin bag.\n",
       "\n",
       "## A Storied History\n",
       "\n",
       "The Hermes Birkin bag was born out of a chance encounter between British actress and singer Jane Birkin and Hermes CEO Jean-Louis Dumas in 1983. As the story goes, Birkin found herself seated next to Dumas on a flight from Paris to London. When the contents of her overstuffed handbag spilled out, she lamented the lack of a stylish yet practical bag. Inspired by her plight, Dumas sketched a design on an airplane sick bag, and thus, the Birkin bag was conceived.\n",
       "\n",
       "Introduced in 1984, the Birkin bag quickly became a symbol of status and sophistication. Named after Jane Birkin, the bag was designed to be both functional and elegant, featuring a spacious interior, sturdy handles, and a signature lock and key.\n",
       "\n",
       "## Craft</td></tr>\n",
       "       <tr><th>System Fingerprint</th><td>fp_9cb5d38cf7</td></tr>\n",
       "       <tr><th>Number of prompt tokens</th><td>30</td></tr>\n",
       "       <tr><th>Number of completion tokens</th><td>256</td></tr>\n",
       "       </table>\n",
       "       "
      ],
      "text/plain": [
       "<IPython.core.display.HTML object>"
      ]
     },
     "metadata": {},
     "output_type": "display_data"
    },
    {
     "data": {
      "text/html": [
       "\n",
       "       <table>\n",
       "       <tr><th>Response</th><td># The Iconic Hermes Birkin Bag: A Symbol of Luxury and Craftsmanship\n",
       "\n",
       "In the world of high fashion, few items command as much reverence and admiration as the Hermes Birkin bag. This iconic accessory, synonymous with luxury, exclusivity, and impeccable craftsmanship, has become a coveted status symbol for fashion enthusiasts and celebrities alike. But what is it about the Birkin bag that has propelled it to such legendary status? Let's delve into the history, craftsmanship, and cultural significance of this extraordinary handbag.\n",
       "\n",
       "## A Storied Beginning\n",
       "\n",
       "The Hermes Birkin bag was born out of a serendipitous encounter between British actress and singer Jane Birkin and Hermes CEO Jean-Louis Dumas in 1983. As the story goes, Birkin found herself seated next to Dumas on a flight from Paris to London. During the flight, she lamented the lack of a stylish yet practical handbag that could accommodate her needs as a young mother. Inspired by her plight, Dumas sketched a design on an airplane sick bag, and thus, the Birkin bag was conceived.\n",
       "\n",
       "## Craftsmanship: A Labor of Love\n",
       "\n",
       "What sets the Birkin bag apart from other luxury handbags is the unparalleled craftsmanship that goes into its creation. Each Birkin bag is meticulously handcrafted by a</td></tr>\n",
       "       <tr><th>System Fingerprint</th><td>fp_9cb5d38cf7</td></tr>\n",
       "       <tr><th>Number of prompt tokens</th><td>30</td></tr>\n",
       "       <tr><th>Number of completion tokens</th><td>256</td></tr>\n",
       "       </table>\n",
       "       "
      ],
      "text/plain": [
       "<IPython.core.display.HTML object>"
      ]
     },
     "metadata": {},
     "output_type": "display_data"
    }
   ],
   "source": [
    "user_message = \"\"\"\n",
    "    Please write an article on the Hermes Birkin bag\n",
    "\"\"\"\n",
    "\n",
    "previous_response = await get_chat_response(\n",
    "    model_id=model_id,\n",
    "    user_message=user_message,\n",
    "    seed=45678\n",
    ")\n",
    "\n",
    "response = await get_chat_response(\n",
    "    model_id=model_id,\n",
    "    user_message=user_message,\n",
    "    seed=890\n",
    ")"
   ]
  },
  {
   "cell_type": "code",
   "execution_count": 24,
   "id": "6bc5c596",
   "metadata": {
    "id": "6bc5c596",
    "outputId": "a570fbb4-d345-4280-f509-770b9a897b41"
   },
   "outputs": [
    {
     "data": {
      "text/html": [
       "<table><tr style='color: red;'><td>- ### The Timeless Allure of the Hermès Birkin Bag\n",
       "\n",
       "In the world of luxury fashion, few items command as much reverence and admiration as the Hermès Birkin bag</td></tr><tr><td>? ^^^^\n",
       "</td></tr><tr style='color: green;'><td>+ **The Timeless Allure of the Hermès Birkin Bag**\n",
       "\n",
       "In the world of luxury fashion, few items command as much reverence and admiration as the Hermès Birkin bag</td></tr><tr><td>? ^^                                            ++\n",
       "</td></tr><tr><td>   Synonymous with opulence, exclusivity, and impeccable craftsmanship, the Birkin bag has transcended its status as a mere accessory to become a cultural icon</td></tr><tr><td>   This article delves into the history, craftsmanship, and enduring appeal of the Hermès Birkin bag</td></tr><tr style='color: red;'><td>- \n",
       "\n",
       "#### A Storied Beginning\n",
       "\n",
       "The Birkin bag's inception is the stuff of legend</td></tr><tr><td>? \n",
       "\n",
       "-\n",
       "</td></tr><tr style='color: green;'><td>+ \n",
       "\n",
       "### A Storied Beginning\n",
       "\n",
       "The Birkin bag's inception is the stuff of legend</td></tr><tr><td>   In 1983, British actress and singer Jane Birkin found herself seated next to Jean-Louis Dumas, the then-chief executive of Hermès, on a flight from Paris to London</td></tr><tr style='color: red;'><td>-  As the story goes, Birkin's overstuffed straw bag spilled its contents, prompting a conversation about the ideal handbag</td></tr><tr><td>?                             ------------\n",
       "</td></tr><tr style='color: green;'><td>+  As the story goes, Birkin's straw bag spilled its contents, prompting a conversation about the ideal handbag</td></tr><tr style='color: red;'><td>-  Inspired by Birkin's needs and suggestions, Dumas sketched a design on an airplane sick bag, laying the foundation for what would become one of the most coveted handbags in the world</td></tr><tr style='color: green;'><td>+  Inspired by Birkin's needs and suggestions, Dumas sketched a design on an airplane sick bag, and thus, the Birkin bag was born</td></tr><tr style='color: red;'><td>- \n",
       "\n",
       "#### Craftsmanship: A Labor of Love\n",
       "\n",
       "What sets the Birkin bag apart from other luxury handbags is the unparalleled craftsmanship that goes into its creation</td></tr><tr><td>? \n",
       "\n",
       "-\n",
       "</td></tr><tr style='color: green;'><td>+ \n",
       "\n",
       "### Craftsmanship: A Labor of Love\n",
       "\n",
       "What sets the Hermès Birkin bag apart from other luxury handbags is the unparalleled craftsmanship that goes into its creation</td></tr><tr><td>? \n",
       "\n",
       "                                  \n",
       "\n",
       "             +++++++\n",
       "</td></tr><tr style='color: red;'><td>-  Each Birkin bag is handmade by a single artisan in Hermès' ateliers in</td></tr><tr style='color: green;'><td>+  Each Birkin bag is handmade by a single artisan in France, a process that can take up to 48 hours</td></tr><tr style='color: green;'><td>+ </td></tr></table>"
      ],
      "text/plain": [
       "<IPython.core.display.HTML object>"
      ]
     },
     "metadata": {},
     "output_type": "display_data"
    }
   ],
   "source": [
    "compare_responses(previous_response, response)"
   ]
  },
  {
   "cell_type": "code",
   "execution_count": 25,
   "id": "f186e08c",
   "metadata": {
    "id": "f186e08c",
    "outputId": "e95fa33e-10ff-4cd1-9c27-56dfbc1d18b3"
   },
   "outputs": [
    {
     "name": "stdout",
     "output_type": "stream",
     "text": [
      "rouge1:\n",
      "  Precision: 0.9191919191919192\n",
      "  Recall: 0.91\n",
      "  F1 Score: 0.9145728643216081\n",
      "rouge2:\n",
      "  Precision: 0.8984771573604061\n",
      "  Recall: 0.8894472361809045\n",
      "  F1 Score: 0.893939393939394\n",
      "rougeL:\n",
      "  Precision: 0.9090909090909091\n",
      "  Recall: 0.9\n",
      "  F1 Score: 0.9045226130653266\n"
     ]
    }
   ],
   "source": [
    "# Compute ROUGE scores\n",
    "rouge_scores = scorer.score(previous_response, response)\n",
    "\n",
    "# Print ROUGE scores\n",
    "for metric, scores in rouge_scores.items():\n",
    "    print(f'{metric}:')\n",
    "    print(f'  Precision: {scores.precision}')\n",
    "    print(f'  Recall: {scores.recall}')\n",
    "    print(f'  F1 Score: {scores.fmeasure}')"
   ]
  },
  {
   "cell_type": "code",
   "execution_count": null,
   "id": "05586f7d",
   "metadata": {
    "id": "05586f7d"
   },
   "outputs": [],
   "source": []
  }
 ],
 "metadata": {
  "colab": {
   "provenance": []
  },
  "kernelspec": {
   "display_name": "openai_apis_venv",
   "language": "python",
   "name": "openai_apis_venv"
  },
  "language_info": {
   "codemirror_mode": {
    "name": "ipython",
    "version": 3
   },
   "file_extension": ".py",
   "mimetype": "text/x-python",
   "name": "python",
   "nbconvert_exporter": "python",
   "pygments_lexer": "ipython3",
   "version": "3.10.9"
  }
 },
 "nbformat": 4,
 "nbformat_minor": 5
}
